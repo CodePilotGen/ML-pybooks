{
 "cells": [
  {
   "cell_type": "code",
   "execution_count": 1,
   "metadata": {
    "collapsed": true
   },
   "outputs": [],
   "source": [
    "import numpy as np\n",
    "import matplotlib.pyplot as plt\n",
    "%matplotlib inline"
   ]
  },
  {
   "cell_type": "code",
   "execution_count": 2,
   "metadata": {
    "collapsed": true
   },
   "outputs": [],
   "source": [
    "from sklearn.datasets import load_boston\n",
    "data = load_boston()"
   ]
  },
  {
   "cell_type": "code",
   "execution_count": 3,
   "metadata": {
    "collapsed": false
   },
   "outputs": [
    {
     "name": "stdout",
     "output_type": "stream",
     "text": [
      "['data', 'feature_names', 'DESCR', 'target']\n"
     ]
    }
   ],
   "source": [
    "print(data.keys())"
   ]
  },
  {
   "cell_type": "code",
   "execution_count": 4,
   "metadata": {
    "collapsed": false
   },
   "outputs": [
    {
     "name": "stdout",
     "output_type": "stream",
     "text": [
      "Boston House Prices dataset\n",
      "\n",
      "Notes\n",
      "------\n",
      "Data Set Characteristics:  \n",
      "\n",
      "    :Number of Instances: 506 \n",
      "\n",
      "    :Number of Attributes: 13 numeric/categorical predictive\n",
      "    \n",
      "    :Median Value (attribute 14) is usually the target\n",
      "\n",
      "    :Attribute Information (in order):\n",
      "        - CRIM     per capita crime rate by town\n",
      "        - ZN       proportion of residential land zoned for lots over 25,000 sq.ft.\n",
      "        - INDUS    proportion of non-retail business acres per town\n",
      "        - CHAS     Charles River dummy variable (= 1 if tract bounds river; 0 otherwise)\n",
      "        - NOX      nitric oxides concentration (parts per 10 million)\n",
      "        - RM       average number of rooms per dwelling\n",
      "        - AGE      proportion of owner-occupied units built prior to 1940\n",
      "        - DIS      weighted distances to five Boston employment centres\n",
      "        - RAD      index of accessibility to radial highways\n",
      "        - TAX      full-value property-tax rate per $10,000\n",
      "        - PTRATIO  pupil-teacher ratio by town\n",
      "        - B        1000(Bk - 0.63)^2 where Bk is the proportion of blacks by town\n",
      "        - LSTAT    % lower status of the population\n",
      "        - MEDV     Median value of owner-occupied homes in $1000's\n",
      "\n",
      "    :Missing Attribute Values: None\n",
      "\n",
      "    :Creator: Harrison, D. and Rubinfeld, D.L.\n",
      "\n",
      "This is a copy of UCI ML housing dataset.\n",
      "http://archive.ics.uci.edu/ml/datasets/Housing\n",
      "\n",
      "\n",
      "This dataset was taken from the StatLib library which is maintained at Carnegie Mellon University.\n",
      "\n",
      "The Boston house-price data of Harrison, D. and Rubinfeld, D.L. 'Hedonic\n",
      "prices and the demand for clean air', J. Environ. Economics & Management,\n",
      "vol.5, 81-102, 1978.   Used in Belsley, Kuh & Welsch, 'Regression diagnostics\n",
      "...', Wiley, 1980.   N.B. Various transformations are used in the table on\n",
      "pages 244-261 of the latter.\n",
      "\n",
      "The Boston house-price data has been used in many machine learning papers that address regression\n",
      "problems.   \n",
      "     \n",
      "**References**\n",
      "\n",
      "   - Belsley, Kuh & Welsch, 'Regression diagnostics: Identifying Influential Data and Sources of Collinearity', Wiley, 1980. 244-261.\n",
      "   - Quinlan,R. (1993). Combining Instance-Based and Model-Based Learning. In Proceedings on the Tenth International Conference of Machine Learning, 236-243, University of Massachusetts, Amherst. Morgan Kaufmann.\n",
      "   - many more! (see http://archive.ics.uci.edu/ml/datasets/Housing)\n",
      "\n"
     ]
    }
   ],
   "source": [
    "print(data.DESCR)"
   ]
  },
  {
   "cell_type": "code",
   "execution_count": 5,
   "metadata": {
    "collapsed": false
   },
   "outputs": [
    {
     "name": "stdout",
     "output_type": "stream",
     "text": [
      "['CRIM' 'ZN' 'INDUS' 'CHAS' 'NOX' 'RM' 'AGE' 'DIS' 'RAD' 'TAX' 'PTRATIO'\n",
      " 'B' 'LSTAT']\n"
     ]
    }
   ],
   "source": [
    "feature_names = data.feature_names\n",
    "print(feature_names)"
   ]
  },
  {
   "cell_type": "code",
   "execution_count": 6,
   "metadata": {
    "collapsed": false
   },
   "outputs": [
    {
     "name": "stdout",
     "output_type": "stream",
     "text": [
      "506 13\n"
     ]
    }
   ],
   "source": [
    "X = data.data\n",
    "y = data.target\n",
    "N, d = X.shape\n",
    "print( N, d)"
   ]
  },
  {
   "cell_type": "code",
   "execution_count": 7,
   "metadata": {
    "collapsed": false
   },
   "outputs": [
    {
     "data": {
      "text/plain": [
       "<matplotlib.text.Text at 0x83b5518>"
      ]
     },
     "execution_count": 7,
     "metadata": {},
     "output_type": "execute_result"
    },
    {
     "data": {
      "image/png": "[encoded data removed]",
      "text/plain": [
       "<matplotlib.figure.Figure at 0x8160400>"
      ]
     },
     "metadata": {},
     "output_type": "display_data"
    }
   ],
   "source": [
    "plt.figure(figsize = (12, 6))\n",
    "\n",
    "plt.subplot(1, 3, 1)\n",
    "plt.scatter(X[:, 12], y, color = 'blue', alpha = 0.5)\n",
    "plt.xlim([0, 40])\n",
    "plt.xlabel(feature_names[12])\n",
    "plt.ylabel('MEDV')\n",
    "\n",
    "plt.subplot(1, 3, 2)\n",
    "plt.scatter(X[:, 5], y, color = 'blue', alpha = 0.5)\n",
    "plt.xlabel(feature_names[5])\n",
    "\n",
    "plt.subplot(1, 3, 3)\n",
    "plt.scatter(X[:, 9], y, color = 'blue', alpha = 0.5)\n",
    "plt.xlabel(feature_names[9])"
   ]
  },
  {
   "cell_type": "code",
   "execution_count": 8,
   "metadata": {
    "collapsed": false
   },
   "outputs": [
    {
     "name": "stdout",
     "output_type": "stream",
     "text": [
      "[[ 1.         -0.19945796  0.4044707  -0.05529526  0.41752143 -0.21993979\n",
      "   0.35078366 -0.3779036   0.62202891  0.57956428  0.28825016 -0.37736462\n",
      "   0.45222028]\n",
      " [-0.19945796  1.         -0.53382819 -0.04269672 -0.51660371  0.31199059\n",
      "  -0.56953734  0.66440822 -0.31194783 -0.31456332 -0.39167855  0.17552032\n",
      "  -0.41299457]\n",
      " [ 0.4044707  -0.53382819  1.          0.06293803  0.76365145 -0.39167585\n",
      "   0.64477851 -0.70802699  0.59512927  0.72076018  0.38324756 -0.35697654\n",
      "   0.60379972]\n",
      " [-0.05529526 -0.04269672  0.06293803  1.          0.09120281  0.09125123\n",
      "   0.08651777 -0.09917578 -0.00736824 -0.03558652 -0.12151517  0.04878848\n",
      "  -0.0539293 ]\n",
      " [ 0.41752143 -0.51660371  0.76365145  0.09120281  1.         -0.30218819\n",
      "   0.7314701  -0.76923011  0.61144056  0.6680232   0.18893268 -0.38005064\n",
      "   0.59087892]\n",
      " [-0.21993979  0.31199059 -0.39167585  0.09125123 -0.30218819  1.\n",
      "  -0.24026493  0.20524621 -0.20984667 -0.29204783 -0.35550149  0.12806864\n",
      "  -0.61380827]\n",
      " [ 0.35078366 -0.56953734  0.64477851  0.08651777  0.7314701  -0.24026493\n",
      "   1.         -0.74788054  0.45602245  0.50645559  0.26151501 -0.27353398\n",
      "   0.60233853]\n",
      " [-0.3779036   0.66440822 -0.70802699 -0.09917578 -0.76923011  0.20524621\n",
      "  -0.74788054  1.         -0.49458793 -0.53443158 -0.23247054  0.29151167\n",
      "  -0.49699583]\n",
      " [ 0.62202891 -0.31194783  0.59512927 -0.00736824  0.61144056 -0.20984667\n",
      "   0.45602245 -0.49458793  1.          0.91022819  0.46474118 -0.44441282\n",
      "   0.48867633]\n",
      " [ 0.57956428 -0.31456332  0.72076018 -0.03558652  0.6680232  -0.29204783\n",
      "   0.50645559 -0.53443158  0.91022819  1.          0.46085304 -0.44180801\n",
      "   0.54399341]\n",
      " [ 0.28825016 -0.39167855  0.38324756 -0.12151517  0.18893268 -0.35550149\n",
      "   0.26151501 -0.23247054  0.46474118  0.46085304  1.         -0.1773833\n",
      "   0.37404432]\n",
      " [-0.37736462  0.17552032 -0.35697654  0.04878848 -0.38005064  0.12806864\n",
      "  -0.27353398  0.29151167 -0.44441282 -0.44180801 -0.1773833   1.\n",
      "  -0.3660869 ]\n",
      " [ 0.45222028 -0.41299457  0.60379972 -0.0539293   0.59087892 -0.61380827\n",
      "   0.60233853 -0.49699583  0.48867633  0.54399341  0.37404432 -0.3660869\n",
      "   1.        ]]\n"
     ]
    }
   ],
   "source": [
    "S = np.corrcoef(X, rowvar = 0)\n",
    "print(S)"
   ]
  },
  {
   "cell_type": "code",
   "execution_count": 9,
   "metadata": {
    "collapsed": false
   },
   "outputs": [
    {
     "name": "stdout",
     "output_type": "stream",
     "text": [
      "[[ 1.         -0.19945796  0.4044707  -0.05529526  0.41752143 -0.21993979\n",
      "   0.35078366 -0.3779036   0.62202891  0.57956428  0.28825016 -0.37736462\n",
      "   0.45222028 -0.38583169]\n",
      " [-0.19945796  1.         -0.53382819 -0.04269672 -0.51660371  0.31199059\n",
      "  -0.56953734  0.66440822 -0.31194783 -0.31456332 -0.39167855  0.17552032\n",
      "  -0.41299457  0.36044534]\n",
      " [ 0.4044707  -0.53382819  1.          0.06293803  0.76365145 -0.39167585\n",
      "   0.64477851 -0.70802699  0.59512927  0.72076018  0.38324756 -0.35697654\n",
      "   0.60379972 -0.48372516]\n",
      " [-0.05529526 -0.04269672  0.06293803  1.          0.09120281  0.09125123\n",
      "   0.08651777 -0.09917578 -0.00736824 -0.03558652 -0.12151517  0.04878848\n",
      "  -0.0539293   0.17526018]\n",
      " [ 0.41752143 -0.51660371  0.76365145  0.09120281  1.         -0.30218819\n",
      "   0.7314701  -0.76923011  0.61144056  0.6680232   0.18893268 -0.38005064\n",
      "   0.59087892 -0.42732077]\n",
      " [-0.21993979  0.31199059 -0.39167585  0.09125123 -0.30218819  1.\n",
      "  -0.24026493  0.20524621 -0.20984667 -0.29204783 -0.35550149  0.12806864\n",
      "  -0.61380827  0.69535995]\n",
      " [ 0.35078366 -0.56953734  0.64477851  0.08651777  0.7314701  -0.24026493\n",
      "   1.         -0.74788054  0.45602245  0.50645559  0.26151501 -0.27353398\n",
      "   0.60233853 -0.37695457]\n",
      " [-0.3779036   0.66440822 -0.70802699 -0.09917578 -0.76923011  0.20524621\n",
      "  -0.74788054  1.         -0.49458793 -0.53443158 -0.23247054  0.29151167\n",
      "  -0.49699583  0.24992873]\n",
      " [ 0.62202891 -0.31194783  0.59512927 -0.00736824  0.61144056 -0.20984667\n",
      "   0.45602245 -0.49458793  1.          0.91022819  0.46474118 -0.44441282\n",
      "   0.48867633 -0.38162623]\n",
      " [ 0.57956428 -0.31456332  0.72076018 -0.03558652  0.6680232  -0.29204783\n",
      "   0.50645559 -0.53443158  0.91022819  1.          0.46085304 -0.44180801\n",
      "   0.54399341 -0.46853593]\n",
      " [ 0.28825016 -0.39167855  0.38324756 -0.12151517  0.18893268 -0.35550149\n",
      "   0.26151501 -0.23247054  0.46474118  0.46085304  1.         -0.1773833\n",
      "   0.37404432 -0.50778669]\n",
      " [-0.37736462  0.17552032 -0.35697654  0.04878848 -0.38005064  0.12806864\n",
      "  -0.27353398  0.29151167 -0.44441282 -0.44180801 -0.1773833   1.\n",
      "  -0.3660869   0.33346082]\n",
      " [ 0.45222028 -0.41299457  0.60379972 -0.0539293   0.59087892 -0.61380827\n",
      "   0.60233853 -0.49699583  0.48867633  0.54399341  0.37404432 -0.3660869\n",
      "   1.         -0.73766273]\n",
      " [-0.38583169  0.36044534 -0.48372516  0.17526018 -0.42732077  0.69535995\n",
      "  -0.37695457  0.24992873 -0.38162623 -0.46853593 -0.50778669  0.33346082\n",
      "  -0.73766273  1.        ]]\n"
     ]
    }
   ],
   "source": [
    "S = np.corrcoef(np.hstack([X, np.reshape(y, (N, 1))]), rowvar = 0)\n",
    "print(S)"
   ]
  },
  {
   "cell_type": "code",
   "execution_count": 10,
   "metadata": {
    "collapsed": false
   },
   "outputs": [
    {
     "data": {
      "image/png": "[encoded data removed]",
      "text/plain": [
       "<matplotlib.figure.Figure at 0x84c6550>"
      ]
     },
     "metadata": {},
     "output_type": "display_data"
    }
   ],
   "source": [
    "plt.figure(figsize = (10, 8))\n",
    "plt.imshow(np.abs(S), interpolation = 'nearest', cmap = 'binary')\n",
    "plt.colorbar()\n",
    "plt.xticks(np.arange(d + 1), np.append(feature_names, 'MEDV'), rotation=70)\n",
    "plt.yticks(np.arange(d + 1), np.append(feature_names, 'MEDV'))\n",
    "pass"
   ]
  },
  {
   "cell_type": "code",
   "execution_count": 11,
   "metadata": {
    "collapsed": true
   },
   "outputs": [],
   "source": [
    "correlations = np.abs(S[:-1, -1])\n",
    "indices = np.argsort(correlations)[:-(d + 1):-1]"
   ]
  },
  {
   "cell_type": "code",
   "execution_count": 12,
   "metadata": {
    "collapsed": false
   },
   "outputs": [
    {
     "data": {
      "text/plain": [
       "(-1, 13L)"
      ]
     },
     "execution_count": 12,
     "metadata": {},
     "output_type": "execute_result"
    },
    {
     "data": {
      "image/png": "[encoded data removed]",
      "text/plain": [
       "<matplotlib.figure.Figure at 0x852f080>"
      ]
     },
     "metadata": {},
     "output_type": "display_data"
    }
   ],
   "source": [
    "plt.title(\"Correlations\")\n",
    "plt.bar(range(d), correlations[indices], align = 'center', color = 'b')\n",
    "plt.xticks(range(d), feature_names[indices], rotation = 45)\n",
    "plt.xlim([-1, d])"
   ]
  },
  {
   "cell_type": "code",
   "execution_count": 13,
   "metadata": {
    "collapsed": false
   },
   "outputs": [
    {
     "name": "stdout",
     "output_type": "stream",
     "text": [
      "379 127\n"
     ]
    }
   ],
   "source": [
    "from sklearn.cross_validation import train_test_split\n",
    "X_train, X_test, y_train, y_test = train_test_split(X, y, test_size = 0.25, random_state = 4)\n",
    "N_train, = y_train.shape\n",
    "N_test,  = y_test.shape\n",
    "print(N_train, N_test)"
   ]
  },
  {
   "cell_type": "code",
   "execution_count": 14,
   "metadata": {
    "collapsed": false
   },
   "outputs": [
    {
     "data": {
      "text/plain": [
       "LinearRegression(copy_X=True, fit_intercept=True, n_jobs=1, normalize=False)"
      ]
     },
     "execution_count": 14,
     "metadata": {},
     "output_type": "execute_result"
    }
   ],
   "source": [
    "from sklearn.linear_model import LinearRegression\n",
    "lr_model = LinearRegression()\n",
    "lr_model.fit(X_train, y_train)"
   ]
  },
  {
   "cell_type": "markdown",
   "metadata": {},
   "source": [
    "### Измеряем точность и ошибку"
   ]
  },
  {
   "cell_type": "markdown",
   "metadata": {},
   "source": [
    "_Остаточная сумма квадратов_:\n",
    "$$\n",
    "{\\rm RSS} = \\sum_{i=1}^N \\left(y^{(i)} - \\widehat{y}^{(i)} \\right)^2\n",
    "$$\n",
    "где \n",
    "$$\n",
    "\\widehat{y}^{(i)} = \\beta_0 + \\sum_{j=1}^d \\beta_j x_j^{(i)}\n",
    "$$\n",
    "\n",
    "_Полная сумма квадратов_:\n",
    "$$\n",
    "{\\rm TSS} = \\sum_{i=1}^N \\left(y^{(i)} - \\overline{y} \\right)^2,\n",
    "$$\n",
    "где \n",
    "$$\n",
    "\\overline{y} = \\frac{1}{N} \\sum_{i=1}^N y^{(i)}\n",
    "$$\n",
    "\n",
    "$$\n",
    "\\overline{y} = \\beta_0 + \\sum_{j=1}^d \\beta_j \\overline{x}_j\n",
    "$$\n",
    "\n",
    "\n",
    "_Сумма квадратов, обусловленная регрессией_:\n",
    "$$\n",
    "{\\rm ESS} = \\sum_{i=1}^N \\left(\\overline{y} - \\widehat{y}^{(i)} \\right)^2\n",
    "$$\n",
    "\n",
    "Можно показать, что\n",
    "$$\n",
    "{\\rm TSS} = {\\rm RSS} + {\\rm ESS}\n",
    "$$\n",
    "\n",
    "_Коэффициент детерминации_, или _коэффициент регрессии Пирсона_:\n",
    "$$\n",
    "R^2 = 1 - \\frac{{\\rm RSS}}{{\\rm TSS}} = \\frac{{\\rm ESS}}{{\\rm TSS}}\n",
    "$$\n",
    "— доля объясняемого регрессией разброса относительно среднего.\n",
    "\n",
    "$$\n",
    "0 \\le R^2 \\le 1\n",
    "$$\n",
    "\n",
    "$R = \\sqrt{R^2}$ равно (по модулю) выборочной корреляции между $y^{(i)}$ и $\\widehat{y}^{(i)}$\n",
    "\n",
    "Если $d = 1$, то $R$ равен (по модулю) выборочной корреляции между $y^{(i)}$ и $x^{(i)}$."
   ]
  },
  {
   "cell_type": "code",
   "execution_count": 15,
   "metadata": {
    "collapsed": false
   },
   "outputs": [
    {
     "data": {
      "text/plain": [
       "0.73745399110689847"
      ]
     },
     "execution_count": 15,
     "metadata": {},
     "output_type": "execute_result"
    }
   ],
   "source": [
    "lr_model.score(X_train, y_train) # Коэффициент детерминации"
   ]
  },
  {
   "cell_type": "code",
   "execution_count": 16,
   "metadata": {
    "collapsed": false
   },
   "outputs": [
    {
     "data": {
      "text/plain": [
       "0.73142491282820998"
      ]
     },
     "execution_count": 16,
     "metadata": {},
     "output_type": "execute_result"
    }
   ],
   "source": [
    "lr_model.score(X_test, y_test)"
   ]
  },
  {
   "cell_type": "code",
   "execution_count": 17,
   "metadata": {
    "collapsed": false
   },
   "outputs": [
    {
     "name": "stdout",
     "output_type": "stream",
     "text": [
      "20.5546440362 26.9470851444\n"
     ]
    }
   ],
   "source": [
    "MSE_train = np.mean((lr_model.predict(X_train) - y_train)**2)\n",
    "MSE_test  = np.mean((lr_model.predict(X_test ) - y_test)**2)\n",
    "print(MSE_train, MSE_test)"
   ]
  },
  {
   "cell_type": "markdown",
   "metadata": {},
   "source": [
    "# Отбор и определение значимости признаков"
   ]
  },
  {
   "cell_type": "markdown",
   "metadata": {},
   "source": [
    "## Отбор признаков. Величина коэффициентов"
   ]
  },
  {
   "cell_type": "code",
   "execution_count": 18,
   "metadata": {
    "collapsed": false
   },
   "outputs": [
    {
     "data": {
      "text/plain": [
       "array([ -1.17768886e-01,   5.05346579e-02,  -1.02686589e-02,\n",
       "         3.66706342e+00,  -1.53354861e+01,   3.38520837e+00,\n",
       "        -5.81736820e-03,  -1.49248101e+00,   3.33155833e-01,\n",
       "        -1.50532803e-02,  -8.70584084e-01,   8.91207776e-03,\n",
       "        -4.93857793e-01])"
      ]
     },
     "execution_count": 18,
     "metadata": {},
     "output_type": "execute_result"
    }
   ],
   "source": [
    "lr_model.coef_"
   ]
  },
  {
   "cell_type": "code",
   "execution_count": 19,
   "metadata": {
    "collapsed": false
   },
   "outputs": [
    {
     "data": {
      "text/plain": [
       "array([-0.92041113,  1.08098058,  0.14296712,  0.68220346, -2.06009246,\n",
       "        2.67064141,  0.02112063, -3.10444805,  2.65878654, -2.07589814,\n",
       "       -2.06215593,  0.85664044, -3.74867982])"
      ]
     },
     "execution_count": 19,
     "metadata": {},
     "output_type": "execute_result"
    }
   ],
   "source": [
    "X /= X.std(axis = 0) # Сделаем стандартизацию!\n",
    "lr_model.fit(X, y)\n",
    "lr_model.coef_"
   ]
  },
  {
   "cell_type": "code",
   "execution_count": 20,
   "metadata": {
    "collapsed": true
   },
   "outputs": [],
   "source": [
    "importances = np.abs(lr_model.coef_)\n",
    "indices = np.argsort(importances)[:-(d + 1):-1]"
   ]
  },
  {
   "cell_type": "code",
   "execution_count": 21,
   "metadata": {
    "collapsed": false
   },
   "outputs": [
    {
     "data": {
      "text/plain": [
       "(-1, 13L)"
      ]
     },
     "execution_count": 21,
     "metadata": {},
     "output_type": "execute_result"
    },
    {
     "data": {
      "image/png": "[encoded data removed]",
      "text/plain": [
       "<matplotlib.figure.Figure at 0x9ea8a58>"
      ]
     },
     "metadata": {},
     "output_type": "display_data"
    }
   ],
   "source": [
    "plt.title(\"Feature importances\")\n",
    "plt.bar(range(d), importances[indices], align = 'center', color = 'r')\n",
    "plt.xticks(range(d), feature_names[indices], rotation = 45)\n",
    "plt.xlim([-1, d])"
   ]
  },
  {
   "cell_type": "markdown",
   "metadata": {},
   "source": [
    "## Отбор признаков. Recursive forward selection\n",
    "\n",
    "Recursive feature selection (greedy forward selection)"
   ]
  },
  {
   "cell_type": "code",
   "execution_count": 22,
   "metadata": {
    "collapsed": true
   },
   "outputs": [],
   "source": [
    "from sklearn.feature_selection import SelectKBest\n",
    "from sklearn.feature_selection import f_regression"
   ]
  },
  {
   "cell_type": "code",
   "execution_count": 23,
   "metadata": {
    "collapsed": false
   },
   "outputs": [
    {
     "name": "stdout",
     "output_type": "stream",
     "text": [
      "(379L, 5L) (127L, 5L)\n"
     ]
    }
   ],
   "source": [
    "kbest_model = SelectKBest(f_regression, k = 5)\n",
    "kbest_model.fit(X_train, y_train)\n",
    "X_train_new = kbest_model.transform(X_train)\n",
    "X_test_new  = kbest_model.transform(X_test)\n",
    "print(X_train_new.shape, X_test_new.shape)"
   ]
  },
  {
   "cell_type": "code",
   "execution_count": 24,
   "metadata": {
    "collapsed": false
   },
   "outputs": [
    {
     "data": {
      "text/plain": [
       "LinearRegression(copy_X=True, fit_intercept=True, n_jobs=1, normalize=False)"
      ]
     },
     "execution_count": 24,
     "metadata": {},
     "output_type": "execute_result"
    }
   ],
   "source": [
    "lr_model = LinearRegression()\n",
    "lr_model.fit(X_train_new, y_train)"
   ]
  },
  {
   "cell_type": "code",
   "execution_count": 25,
   "metadata": {
    "collapsed": false
   },
   "outputs": [
    {
     "data": {
      "text/plain": [
       "0.66961443015481614"
      ]
     },
     "execution_count": 25,
     "metadata": {},
     "output_type": "execute_result"
    }
   ],
   "source": [
    "lr_model.score(X_train_new, y_train)"
   ]
  },
  {
   "cell_type": "code",
   "execution_count": 26,
   "metadata": {
    "collapsed": false
   },
   "outputs": [
    {
     "data": {
      "text/plain": [
       "0.69097970794677988"
      ]
     },
     "execution_count": 26,
     "metadata": {},
     "output_type": "execute_result"
    }
   ],
   "source": [
    "lr_model.score(X_test_new, y_test)"
   ]
  },
  {
   "cell_type": "code",
   "execution_count": 27,
   "metadata": {
    "collapsed": false
   },
   "outputs": [
    {
     "data": {
      "text/plain": [
       "25.86578181661665"
      ]
     },
     "execution_count": 27,
     "metadata": {},
     "output_type": "execute_result"
    }
   ],
   "source": [
    "y_train_pred = lr_model.predict(X_train_new)\n",
    "np.mean((y_train_pred - y_train)**2)"
   ]
  },
  {
   "cell_type": "code",
   "execution_count": 28,
   "metadata": {
    "collapsed": false
   },
   "outputs": [
    {
     "data": {
      "text/plain": [
       "31.005095107701379"
      ]
     },
     "execution_count": 28,
     "metadata": {},
     "output_type": "execute_result"
    }
   ],
   "source": [
    "y_test_pred = lr_model.predict(X_test_new)\n",
    "np.mean((y_test_pred - y_test)**2)"
   ]
  },
  {
   "cell_type": "code",
   "execution_count": 29,
   "metadata": {
    "collapsed": false
   },
   "outputs": [
    {
     "name": "stdout",
     "output_type": "stream",
     "text": [
      "78.2896838646\n",
      "78.2896838646\n",
      "103.509862808\n"
     ]
    }
   ],
   "source": [
    "y_train_mean = np.mean(y_train)\n",
    "print(np.var(y_train))\n",
    "print(np.mean((y_train_mean - y_train)**2))\n",
    "print(np.mean((y_train_mean - y_test)**2))"
   ]
  },
  {
   "cell_type": "code",
   "execution_count": 30,
   "metadata": {
    "collapsed": false
   },
   "outputs": [],
   "source": [
    "err_train = [np.mean((y_train_mean - y_train)**2)]\n",
    "err_test  = [np.mean((y_train_mean - y_test)**2)]\n",
    "for k in range(1, d + 1):\n",
    "    kbest_model = SelectKBest(f_regression, k = k)\n",
    "    kbest_model.fit(X_train, y_train)\n",
    "    X_train_new = kbest_model.transform(X_train)\n",
    "    X_test_new  = kbest_model.transform(X_test)\n",
    "    \n",
    "    lr_model = LinearRegression()\n",
    "    lr_model.fit(X_train_new, y_train)\n",
    "    \n",
    "    y_train_pred = lr_model.predict(X_train_new)\n",
    "    err_train.append(np.mean((y_train_pred - y_train)**2))\n",
    "    \n",
    "    y_test_pred = lr_model.predict(X_test_new)\n",
    "    err_test.append(np.mean((y_test_pred - y_test)**2))"
   ]
  },
  {
   "cell_type": "code",
   "execution_count": 31,
   "metadata": {
    "collapsed": false
   },
   "outputs": [
    {
     "name": "stdout",
     "output_type": "stream",
     "text": [
      "12 26.5040219079\n"
     ]
    }
   ],
   "source": [
    "k_opt = np.argmin(err_test)\n",
    "print(k_opt, err_test[k_opt])"
   ]
  },
  {
   "cell_type": "code",
   "execution_count": 32,
   "metadata": {
    "collapsed": false
   },
   "outputs": [
    {
     "data": {
      "text/plain": [
       "(15, 110)"
      ]
     },
     "execution_count": 32,
     "metadata": {},
     "output_type": "execute_result"
    },
    {
     "data": {
      "image/png": "[encoded data removed]",
      "text/plain": [
       "<matplotlib.figure.Figure at 0x9ea8320>"
      ]
     },
     "metadata": {},
     "output_type": "display_data"
    }
   ],
   "source": [
    "plt.axhline(err_test[k_opt], color = 'gray')\n",
    "plt.plot(range(d + 1), err_train, 'o-r', label = 'Train error', markeredgecolor = 'r')\n",
    "plt.plot(range(d + 1), err_test,  'o-b', label = 'Test error',  markeredgecolor = 'b')\n",
    "plt.legend(loc = 1)\n",
    "plt.xlim(-0.5, 13.5)\n",
    "plt.ylim(15, 110)"
   ]
  },
  {
   "cell_type": "markdown",
   "metadata": {},
   "source": [
    "## Отбор признаков. Recursive feature elimination\n",
    "\n",
    " Recursive feature elimination (greedy backward elimination)"
   ]
  },
  {
   "cell_type": "code",
   "execution_count": 33,
   "metadata": {
    "collapsed": false
   },
   "outputs": [
    {
     "name": "stdout",
     "output_type": "stream",
     "text": [
      "['CRIM' 'ZN' 'CHAS' 'NOX' 'RM' 'DIS' 'RAD' 'TAX' 'PTRATIO' 'B' 'LSTAT']\n",
      "[1 1 2 1 1 1 3 1 1 1 1 1 1]\n",
      "11\n"
     ]
    }
   ],
   "source": [
    "from sklearn.feature_selection import RFECV\n",
    "\n",
    "lr_model = LinearRegression()\n",
    "selector = RFECV(lr_model, cv = 5)\n",
    "selector.fit(X, y)\n",
    "print(feature_names[selector.support_] )\n",
    "print(selector.ranking_)\n",
    "print(selector.n_features_)"
   ]
  },
  {
   "cell_type": "code",
   "execution_count": 34,
   "metadata": {
    "collapsed": false
   },
   "outputs": [
    {
     "name": "stdout",
     "output_type": "stream",
     "text": [
      "INDUS AGE\n"
     ]
    }
   ],
   "source": [
    "print(feature_names[2], feature_names[6] )"
   ]
  },
  {
   "cell_type": "code",
   "execution_count": 35,
   "metadata": {
    "collapsed": false
   },
   "outputs": [
    {
     "data": {
      "text/plain": [
       "[<matplotlib.lines.Line2D at 0xac4c2b0>]"
      ]
     },
     "execution_count": 35,
     "metadata": {},
     "output_type": "execute_result"
    },
    {
     "data": {
      "image/png": "[encoded data removed]",
      "text/plain": [
       "<matplotlib.figure.Figure at 0xa232438>"
      ]
     },
     "metadata": {},
     "output_type": "display_data"
    }
   ],
   "source": [
    "plt.plot(np.arange(1, d + 1), selector.grid_scores_, 'mo-', markeredgecolor = 'm')"
   ]
  },
  {
   "cell_type": "markdown",
   "metadata": {},
   "source": [
    "# Ridge-регрессия \n",
    "\n",
    "Ridge-регрессия – $L_2$-регуляризация:\n",
    "\n",
    "$$\n",
    "\\sum_{i=1}^N \\left(y^{(i)} - \\beta_0 - \\sum_{j=1}^d \\beta_j x_j^{(i)} \\right)^2\n",
    "+ \\alpha \\sum_{i=1}^N \\beta_j^2\n",
    "\\to \\min\n",
    "$$\n",
    "\n",
    "$\\alpha > 0$\n"
   ]
  },
  {
   "cell_type": "code",
   "execution_count": 36,
   "metadata": {
    "collapsed": false
   },
   "outputs": [
    {
     "name": "stdout",
     "output_type": "stream",
     "text": [
      "0.737396616708\n",
      "0.730731790421\n"
     ]
    }
   ],
   "source": [
    "from sklearn import linear_model\n",
    "ridge_model = linear_model.Ridge(alpha = 0.1)\n",
    "ridge_model.fit(X_train, y_train)\n",
    "ridge_model.predict(X)\n",
    "print(ridge_model.score(X_train, y_train))\n",
    "print(ridge_model.score(X_test, y_test))"
   ]
  },
  {
   "cell_type": "code",
   "execution_count": 45,
   "metadata": {
    "collapsed": false
   },
   "outputs": [
    {
     "data": {
      "text/plain": [
       "array([  1.00000000e+00,   1.00000000e+01,   1.00000000e+02,\n",
       "         1.00000000e+03,   1.00000000e+04,   1.00000000e+05,\n",
       "         1.00000000e+06,   1.00000000e+07])"
      ]
     },
     "execution_count": 45,
     "metadata": {},
     "output_type": "execute_result"
    }
   ],
   "source": [
    "np.logspace(0, 7, 8)"
   ]
  },
  {
   "cell_type": "code",
   "execution_count": 37,
   "metadata": {
    "collapsed": true
   },
   "outputs": [],
   "source": [
    "alphas = np.logspace(0, 7, 200)\n",
    "coefs = []\n",
    "for alpha in alphas:\n",
    "    ridge_model = linear_model.Ridge(alpha = alpha, fit_intercept = False)\n",
    "    ridge_model.fit(X, y)\n",
    "    coefs.append(ridge_model.coef_)"
   ]
  },
  {
   "cell_type": "code",
   "execution_count": 46,
   "metadata": {
    "collapsed": false
   },
   "outputs": [
    {
     "data": {
      "image/png": "[encoded data removed]",
      "text/plain": [
       "<matplotlib.figure.Figure at 0xab6a668>"
      ]
     },
     "metadata": {},
     "output_type": "display_data"
    }
   ],
   "source": [
    "plt.semilogx(alphas, coefs)\n",
    "plt.xlim(plt.xlim()[::-1])  # reverse axis\n",
    "plt.xlabel('alpha')\n",
    "plt.ylabel('beta')\n",
    "plt.title('Ridge coefficients as a function of the regularization')\n",
    "\n",
    "for j, feature_name in enumerate(feature_names):\n",
    "    plt.text(alphas[0], coefs[0][j], feature_name)"
   ]
  },
  {
   "cell_type": "markdown",
   "metadata": {},
   "source": [
    "#### Ridge CV"
   ]
  },
  {
   "cell_type": "code",
   "execution_count": 39,
   "metadata": {
    "collapsed": false
   },
   "outputs": [
    {
     "data": {
      "text/plain": [
       "RidgeCV(alphas=array([  1.00000e-04,   1.38950e-04,   1.93070e-04,   2.68270e-04,\n",
       "         3.72759e-04,   5.17947e-04,   7.19686e-04,   1.00000e-03,\n",
       "         1.38950e-03,   1.93070e-03,   2.68270e-03,   3.72759e-03,\n",
       "         5.17947e-03,   7.19686e-03,   1.00000e-02,   1.38950e-02,\n",
       "         1.93070e-02,   2...     1.93070e+02,   2.68270e+02,   3.72759e+02,   5.17947e+02,\n",
       "         7.19686e+02,   1.00000e+03]),\n",
       "    cv=None, fit_intercept=True, gcv_mode=None, normalize=False,\n",
       "    scoring=None, store_cv_values=True)"
      ]
     },
     "execution_count": 39,
     "metadata": {},
     "output_type": "execute_result"
    }
   ],
   "source": [
    "ridgeCV_model = linear_model.RidgeCV(alphas = np.logspace(-4,3,20), store_cv_values=True)\n",
    "ridgeCV_model.fit(X, y)"
   ]
  },
  {
   "cell_type": "code",
   "execution_count": 40,
   "metadata": {
    "collapsed": false
   },
   "outputs": [
    {
     "name": "stdout",
     "output_type": "stream",
     "text": [
      "5.17947467923\n",
      "34.6862849301\n",
      "[-0.88129408  1.00926459  0.03545643  0.69760953 -1.92479181  2.71054074\n",
      " -0.00873559 -2.97096432  2.33146047 -1.77424417 -2.02190954  0.85404091\n",
      " -3.68381217]\n"
     ]
    }
   ],
   "source": [
    "print(ridgeCV_model.alpha_)\n",
    "print(ridgeCV_model.intercept_)\n",
    "print(ridgeCV_model.coef_)"
   ]
  },
  {
   "cell_type": "code",
   "execution_count": 41,
   "metadata": {
    "collapsed": false
   },
   "outputs": [
    {
     "data": {
      "text/plain": [
       "RidgeCV(alphas=array([  1.00000e-04,   1.38950e-04,   1.93070e-04,   2.68270e-04,\n",
       "         3.72759e-04,   5.17947e-04,   7.19686e-04,   1.00000e-03,\n",
       "         1.38950e-03,   1.93070e-03,   2.68270e-03,   3.72759e-03,\n",
       "         5.17947e-03,   7.19686e-03,   1.00000e-02,   1.38950e-02,\n",
       "         1.93070e-02,   2...     1.93070e+02,   2.68270e+02,   3.72759e+02,   5.17947e+02,\n",
       "         7.19686e+02,   1.00000e+03]),\n",
       "    cv=None, fit_intercept=True, gcv_mode=None, normalize=False,\n",
       "    scoring=None, store_cv_values=True)"
      ]
     },
     "execution_count": 41,
     "metadata": {},
     "output_type": "execute_result"
    }
   ],
   "source": [
    "ridgeCV_model"
   ]
  },
  {
   "cell_type": "code",
   "execution_count": 42,
   "metadata": {
    "collapsed": false
   },
   "outputs": [
    {
     "name": "stdout",
     "output_type": "stream",
     "text": [
      "0.0170907278938 100.0\n"
     ]
    }
   ],
   "source": [
    "# ridgeCV_model.cv_values_ отсутствует\n",
    "mse_mean  = np.mean(ridgeCV_model.cv_values_, axis = 1)\n",
    "mse_std   = np.std (ridgeCV_model.cv_values_, axis = 1)\n",
    "mse_min   = np.min(mse_mean)\n",
    "alpha_min = ridgeCV_model.alphas[np.argmin(mse_mean)]\n",
    "print(mse_min, alpha_min)"
   ]
  },
  {
   "cell_type": "code",
   "execution_count": 47,
   "metadata": {
    "collapsed": false
   },
   "outputs": [
    {
     "ename": "ValueError",
     "evalue": "Argument dimensions are incompatible",
     "output_type": "error",
     "traceback": [
      "\u001b[1;31m---------------------------------------------------------------------------\u001b[0m",
      "\u001b[1;31mValueError\u001b[0m                                Traceback (most recent call last)",
      "\u001b[1;32m<ipython-input-47-d8e3fac48b7a>\u001b[0m in \u001b[0;36m<module>\u001b[1;34m()\u001b[0m\n\u001b[0;32m      1\u001b[0m plt.fill_between(ridgeCV_model.alphas, mse_mean - mse_std, mse_mean + mse_std, \n\u001b[1;32m----> 2\u001b[1;33m                  alpha = 0.15, color = 'm')\n\u001b[0m\u001b[0;32m      3\u001b[0m \u001b[0mplt\u001b[0m\u001b[1;33m.\u001b[0m\u001b[0maxhline\u001b[0m\u001b[1;33m(\u001b[0m\u001b[0mmse_min\u001b[0m\u001b[1;33m,\u001b[0m \u001b[0mcolor\u001b[0m \u001b[1;33m=\u001b[0m \u001b[1;34m'gray'\u001b[0m\u001b[1;33m,\u001b[0m \u001b[0mlinestyle\u001b[0m \u001b[1;33m=\u001b[0m \u001b[1;34m'--'\u001b[0m\u001b[1;33m)\u001b[0m\u001b[1;33m\u001b[0m\u001b[0m\n\u001b[0;32m      4\u001b[0m \u001b[0mplt\u001b[0m\u001b[1;33m.\u001b[0m\u001b[0maxvline\u001b[0m\u001b[1;33m(\u001b[0m\u001b[0malpha_min\u001b[0m\u001b[1;33m,\u001b[0m \u001b[0mcolor\u001b[0m \u001b[1;33m=\u001b[0m \u001b[1;34m'gray'\u001b[0m\u001b[1;33m,\u001b[0m \u001b[0mlinestyle\u001b[0m \u001b[1;33m=\u001b[0m \u001b[1;34m'--'\u001b[0m\u001b[1;33m)\u001b[0m\u001b[1;33m\u001b[0m\u001b[0m\n\u001b[0;32m      5\u001b[0m \u001b[0mplt\u001b[0m\u001b[1;33m.\u001b[0m\u001b[0msemilogx\u001b[0m\u001b[1;33m(\u001b[0m\u001b[0mridgeCV_model\u001b[0m\u001b[1;33m.\u001b[0m\u001b[0malphas\u001b[0m\u001b[1;33m,\u001b[0m \u001b[0mmse_mean\u001b[0m\u001b[1;33m,\u001b[0m \u001b[0mcolor\u001b[0m \u001b[1;33m=\u001b[0m \u001b[1;34m'm'\u001b[0m\u001b[1;33m)\u001b[0m\u001b[1;33m\u001b[0m\u001b[0m\n",
      "\u001b[1;32mC:\\Anaconda\\lib\\site-packages\\matplotlib\\pyplot.pyc\u001b[0m in \u001b[0;36mfill_between\u001b[1;34m(x, y1, y2, where, interpolate, step, hold, data, **kwargs)\u001b[0m\n\u001b[0;32m   2887\u001b[0m         ret = ax.fill_between(x, y1, y2=y2, where=where,\n\u001b[0;32m   2888\u001b[0m                               \u001b[0minterpolate\u001b[0m\u001b[1;33m=\u001b[0m\u001b[0minterpolate\u001b[0m\u001b[1;33m,\u001b[0m \u001b[0mstep\u001b[0m\u001b[1;33m=\u001b[0m\u001b[0mstep\u001b[0m\u001b[1;33m,\u001b[0m \u001b[0mdata\u001b[0m\u001b[1;33m=\u001b[0m\u001b[0mdata\u001b[0m\u001b[1;33m,\u001b[0m\u001b[1;33m\u001b[0m\u001b[0m\n\u001b[1;32m-> 2889\u001b[1;33m                               **kwargs)\n\u001b[0m\u001b[0;32m   2890\u001b[0m     \u001b[1;32mfinally\u001b[0m\u001b[1;33m:\u001b[0m\u001b[1;33m\u001b[0m\u001b[0m\n\u001b[0;32m   2891\u001b[0m         \u001b[0max\u001b[0m\u001b[1;33m.\u001b[0m\u001b[0mhold\u001b[0m\u001b[1;33m(\u001b[0m\u001b[0mwashold\u001b[0m\u001b[1;33m)\u001b[0m\u001b[1;33m\u001b[0m\u001b[0m\n",
      "\u001b[1;32mC:\\Anaconda\\lib\\site-packages\\matplotlib\\__init__.pyc\u001b[0m in \u001b[0;36minner\u001b[1;34m(ax, *args, **kwargs)\u001b[0m\n\u001b[0;32m   1809\u001b[0m                     warnings.warn(msg % (label_namer, func.__name__),\n\u001b[0;32m   1810\u001b[0m                                   RuntimeWarning, stacklevel=2)\n\u001b[1;32m-> 1811\u001b[1;33m             \u001b[1;32mreturn\u001b[0m \u001b[0mfunc\u001b[0m\u001b[1;33m(\u001b[0m\u001b[0max\u001b[0m\u001b[1;33m,\u001b[0m \u001b[1;33m*\u001b[0m\u001b[0margs\u001b[0m\u001b[1;33m,\u001b[0m \u001b[1;33m**\u001b[0m\u001b[0mkwargs\u001b[0m\u001b[1;33m)\u001b[0m\u001b[1;33m\u001b[0m\u001b[0m\n\u001b[0m\u001b[0;32m   1812\u001b[0m         \u001b[0mpre_doc\u001b[0m \u001b[1;33m=\u001b[0m \u001b[0minner\u001b[0m\u001b[1;33m.\u001b[0m\u001b[0m__doc__\u001b[0m\u001b[1;33m\u001b[0m\u001b[0m\n\u001b[0;32m   1813\u001b[0m         \u001b[1;32mif\u001b[0m \u001b[0mpre_doc\u001b[0m \u001b[1;32mis\u001b[0m \u001b[0mNone\u001b[0m\u001b[1;33m:\u001b[0m\u001b[1;33m\u001b[0m\u001b[0m\n",
      "\u001b[1;32mC:\\Anaconda\\lib\\site-packages\\matplotlib\\axes\\_axes.pyc\u001b[0m in \u001b[0;36mfill_between\u001b[1;34m(self, x, y1, y2, where, interpolate, step, **kwargs)\u001b[0m\n\u001b[0;32m   4619\u001b[0m \u001b[1;33m\u001b[0m\u001b[0m\n\u001b[0;32m   4620\u001b[0m         \u001b[1;32mif\u001b[0m \u001b[1;32mnot\u001b[0m \u001b[1;33m(\u001b[0m\u001b[0mx\u001b[0m\u001b[1;33m.\u001b[0m\u001b[0mshape\u001b[0m \u001b[1;33m==\u001b[0m \u001b[0my1\u001b[0m\u001b[1;33m.\u001b[0m\u001b[0mshape\u001b[0m \u001b[1;33m==\u001b[0m \u001b[0my2\u001b[0m\u001b[1;33m.\u001b[0m\u001b[0mshape\u001b[0m \u001b[1;33m==\u001b[0m \u001b[0mwhere\u001b[0m\u001b[1;33m.\u001b[0m\u001b[0mshape\u001b[0m\u001b[1;33m)\u001b[0m\u001b[1;33m:\u001b[0m\u001b[1;33m\u001b[0m\u001b[0m\n\u001b[1;32m-> 4621\u001b[1;33m             \u001b[1;32mraise\u001b[0m \u001b[0mValueError\u001b[0m\u001b[1;33m(\u001b[0m\u001b[1;34m\"Argument dimensions are incompatible\"\u001b[0m\u001b[1;33m)\u001b[0m\u001b[1;33m\u001b[0m\u001b[0m\n\u001b[0m\u001b[0;32m   4622\u001b[0m \u001b[1;33m\u001b[0m\u001b[0m\n\u001b[0;32m   4623\u001b[0m         \u001b[0mmask\u001b[0m \u001b[1;33m=\u001b[0m \u001b[0mreduce\u001b[0m\u001b[1;33m(\u001b[0m\u001b[0mma\u001b[0m\u001b[1;33m.\u001b[0m\u001b[0mmask_or\u001b[0m\u001b[1;33m,\u001b[0m \u001b[1;33m[\u001b[0m\u001b[0mma\u001b[0m\u001b[1;33m.\u001b[0m\u001b[0mgetmask\u001b[0m\u001b[1;33m(\u001b[0m\u001b[0ma\u001b[0m\u001b[1;33m)\u001b[0m \u001b[1;32mfor\u001b[0m \u001b[0ma\u001b[0m \u001b[1;32min\u001b[0m \u001b[1;33m(\u001b[0m\u001b[0mx\u001b[0m\u001b[1;33m,\u001b[0m \u001b[0my1\u001b[0m\u001b[1;33m,\u001b[0m \u001b[0my2\u001b[0m\u001b[1;33m)\u001b[0m\u001b[1;33m]\u001b[0m\u001b[1;33m)\u001b[0m\u001b[1;33m\u001b[0m\u001b[0m\n",
      "\u001b[1;31mValueError\u001b[0m: Argument dimensions are incompatible"
     ]
    },
    {
     "data": {
      "image/png": "[encoded data removed]",
      "text/plain": [
       "<matplotlib.figure.Figure at 0xab6ad30>"
      ]
     },
     "metadata": {},
     "output_type": "display_data"
    }
   ],
   "source": [
    "plt.fill_between(ridgeCV_model.alphas, mse_mean - mse_std, mse_mean + mse_std, \n",
    "                 alpha = 0.15, color = 'm')\n",
    "plt.axhline(mse_min, color = 'gray', linestyle = '--')\n",
    "plt.axvline(alpha_min, color = 'gray', linestyle = '--')\n",
    "plt.semilogx(ridgeCV_model.alphas, mse_mean, color = 'm')"
   ]
  },
  {
   "cell_type": "markdown",
   "metadata": {},
   "source": [
    "# LASSO \n",
    "\n",
    "LASSO (least absolute shrinkage and selection operator) - $L_1$-регуляризация:\n",
    "\n",
    "$$\n",
    "\\frac{1}{2N} \\sum_{i=1}^N \\left(y^{(i)} - \\beta_0 - \\sum_{j=1}^d \\beta_j x_j^{(i)} \\right)^2\n",
    "+ \\alpha \\sum_{i=1}^N |\\beta_j|\n",
    "\\to \\min\n",
    "$$\n",
    "\n",
    "Если $\\alpha$ достаточно велико, то часть найденных коэффициентов $\\beta_j$ в точности равны нулю."
   ]
  },
  {
   "cell_type": "code",
   "execution_count": 48,
   "metadata": {
    "collapsed": false
   },
   "outputs": [
    {
     "name": "stdout",
     "output_type": "stream",
     "text": [
      "0.725221611857\n",
      "0.716740128778\n"
     ]
    }
   ],
   "source": [
    "lasso_model = linear_model.Lasso(alpha = 0.1)\n",
    "lasso_model.fit(X_train, y_train)\n",
    "lasso_model.predict(X)\n",
    "print(lasso_model.score(X_train, y_train))\n",
    "print(lasso_model.score(X_test, y_test))"
   ]
  },
  {
   "cell_type": "markdown",
   "metadata": {},
   "source": [
    "LAR – least angle regression"
   ]
  },
  {
   "cell_type": "code",
   "execution_count": 49,
   "metadata": {
    "collapsed": false
   },
   "outputs": [
    {
     "ename": "AttributeError",
     "evalue": "'module' object has no attribute 'lar_path'",
     "output_type": "error",
     "traceback": [
      "\u001b[1;31m---------------------------------------------------------------------------\u001b[0m",
      "\u001b[1;31mAttributeError\u001b[0m                            Traceback (most recent call last)",
      "\u001b[1;32m<ipython-input-49-8ecb0f42da1e>\u001b[0m in \u001b[0;36m<module>\u001b[1;34m()\u001b[0m\n\u001b[1;32m----> 1\u001b[1;33m \u001b[0malphas\u001b[0m\u001b[1;33m,\u001b[0m \u001b[0m_\u001b[0m\u001b[1;33m,\u001b[0m \u001b[0mcoefs\u001b[0m \u001b[1;33m=\u001b[0m \u001b[0mlinear_model\u001b[0m\u001b[1;33m.\u001b[0m\u001b[0mlar_path\u001b[0m\u001b[1;33m(\u001b[0m\u001b[0mX\u001b[0m\u001b[1;33m,\u001b[0m \u001b[0my\u001b[0m\u001b[1;33m,\u001b[0m \u001b[0mmethod\u001b[0m \u001b[1;33m=\u001b[0m \u001b[1;34m'lasso'\u001b[0m\u001b[1;33m)\u001b[0m \u001b[1;31m# Try method='lar'\u001b[0m\u001b[1;33m\u001b[0m\u001b[0m\n\u001b[0m\u001b[0;32m      2\u001b[0m \u001b[1;33m\u001b[0m\u001b[0m\n\u001b[0;32m      3\u001b[0m \u001b[0mxx\u001b[0m \u001b[1;33m=\u001b[0m \u001b[0mnp\u001b[0m\u001b[1;33m.\u001b[0m\u001b[0msum\u001b[0m\u001b[1;33m(\u001b[0m\u001b[0mnp\u001b[0m\u001b[1;33m.\u001b[0m\u001b[0mabs\u001b[0m\u001b[1;33m(\u001b[0m\u001b[0mcoefs\u001b[0m\u001b[1;33m)\u001b[0m\u001b[1;33m,\u001b[0m \u001b[0maxis\u001b[0m \u001b[1;33m=\u001b[0m \u001b[1;36m0\u001b[0m\u001b[1;33m)\u001b[0m\u001b[1;33m\u001b[0m\u001b[0m\n\u001b[0;32m      4\u001b[0m \u001b[0mxx\u001b[0m \u001b[1;33m/=\u001b[0m \u001b[0mxx\u001b[0m\u001b[1;33m[\u001b[0m\u001b[1;33m-\u001b[0m\u001b[1;36m1\u001b[0m\u001b[1;33m]\u001b[0m\u001b[1;33m\u001b[0m\u001b[0m\n\u001b[0;32m      5\u001b[0m \u001b[1;33m\u001b[0m\u001b[0m\n",
      "\u001b[1;31mAttributeError\u001b[0m: 'module' object has no attribute 'lar_path'"
     ]
    }
   ],
   "source": [
    "alphas, _, coefs = linear_model.lar_path(X, y, method = 'lasso') # Try method='lar'\n",
    "\n",
    "xx = np.sum(np.abs(coefs), axis = 0)\n",
    "xx /= xx[-1]\n",
    "\n",
    "plt.plot(xx, coefs.T, '.-')\n",
    "ymin, ymax = plt.ylim()\n",
    "plt.xlabel('|coef| / max|coef|')\n",
    "plt.ylabel('Coefficients')\n",
    "plt.title('LASSO Path')\n",
    "plt.axis('tight')\n",
    "\n",
    "for j, feature_name in enumerate(feature_names):\n",
    "    plt.text(1, coefs[j, -1], feature_name)"
   ]
  },
  {
   "cell_type": "markdown",
   "metadata": {},
   "source": [
    "#### Lasso CV"
   ]
  },
  {
   "cell_type": "code",
   "execution_count": 50,
   "metadata": {
    "collapsed": false
   },
   "outputs": [
    {
     "data": {
      "text/plain": [
       "LassoCV(alphas=array([  1.00000e-04,   1.26486e-04,   1.59986e-04,   2.02359e-04,\n",
       "         2.55955e-04,   3.23746e-04,   4.09492e-04,   5.17947e-04,\n",
       "         6.55129e-04,   8.28643e-04,   1.04811e-03,   1.32571e-03,\n",
       "         1.67683e-03,   2.12095e-03,   2.68270e-03,   3.39322e-03,\n",
       "         4.29193e-03,   5...     3.08884e+00,   3.90694e+00,   4.94171e+00,   6.25055e+00,\n",
       "         7.90604e+00,   1.00000e+01]),\n",
       "    copy_X=True, cv=5, eps=0.001, fit_intercept=True, max_iter=1000,\n",
       "    n_alphas=100, n_jobs=1, normalize=False, positive=False,\n",
       "    precompute='auto', random_state=None, selection='cyclic', tol=0.0001,\n",
       "    verbose=False)"
      ]
     },
     "execution_count": 50,
     "metadata": {},
     "output_type": "execute_result"
    }
   ],
   "source": [
    "lassoCV_model = linear_model.LassoCV(alphas = np.logspace(-4, 1), cv = 5)\n",
    "lassoCV_model.fit(X, y)"
   ]
  },
  {
   "cell_type": "code",
   "execution_count": 51,
   "metadata": {
    "collapsed": false
   },
   "outputs": [
    {
     "name": "stdout",
     "output_type": "stream",
     "text": [
      "0.14563484775\n",
      "26.5826240094\n",
      "[-0.49098165  0.53837854 -0.05800926  0.6464781  -1.36094477  2.89306136\n",
      " -0.         -2.10703811  0.52770186 -0.28841035 -1.8616515   0.72640154\n",
      " -3.72371586]\n"
     ]
    }
   ],
   "source": [
    "print(lassoCV_model.alpha_)\n",
    "print(lassoCV_model.intercept_)\n",
    "print(lassoCV_model.coef_)"
   ]
  },
  {
   "cell_type": "code",
   "execution_count": 52,
   "metadata": {
    "collapsed": false
   },
   "outputs": [
    {
     "data": {
      "text/plain": [
       "array(['CHAS', 'NOX', 'AGE'], \n",
       "      dtype='|S7')"
      ]
     },
     "execution_count": 52,
     "metadata": {},
     "output_type": "execute_result"
    }
   ],
   "source": [
    "feature_names[[3,4,6]]"
   ]
  },
  {
   "cell_type": "code",
   "execution_count": 53,
   "metadata": {
    "collapsed": false
   },
   "outputs": [
    {
     "name": "stdout",
     "output_type": "stream",
     "text": [
      "35.4984006757 0.14563484775\n"
     ]
    }
   ],
   "source": [
    "mse_mean  = np.mean(lassoCV_model.mse_path_, axis = 1)\n",
    "mse_std   = np.std (lassoCV_model.mse_path_, axis = 1)\n",
    "mse_min   = np.min(mse_mean)\n",
    "alpha_min = lassoCV_model.alphas_[np.argmin(mse_mean)]\n",
    "print(mse_min, alpha_min)"
   ]
  },
  {
   "cell_type": "code",
   "execution_count": 54,
   "metadata": {
    "collapsed": false
   },
   "outputs": [
    {
     "data": {
      "text/plain": [
       "[<matplotlib.lines.Line2D at 0x9682be0>]"
      ]
     },
     "execution_count": 54,
     "metadata": {},
     "output_type": "execute_result"
    },
    {
     "data": {
      "image/png": "[encoded data removed]",
      "text/plain": [
       "<matplotlib.figure.Figure at 0xa05e6d8>"
      ]
     },
     "metadata": {},
     "output_type": "display_data"
    }
   ],
   "source": [
    "plt.fill_between(lassoCV_model.alphas_, mse_mean - mse_std, mse_mean + mse_std, \n",
    "                 alpha = 0.15, color = 'm')\n",
    "plt.axhline(mse_min, color = 'gray', linestyle = '--')\n",
    "plt.axvline(alpha_min, color = 'gray', linestyle = '--')\n",
    "plt.semilogx(lassoCV_model.alphas_, mse_mean, color = 'm')"
   ]
  },
  {
   "cell_type": "code",
   "execution_count": null,
   "metadata": {
    "collapsed": true
   },
   "outputs": [],
   "source": []
  }
 ],
 "metadata": {
  "kernelspec": {
   "display_name": "Python 3",
   "language": "python",
   "name": "python3"
  },
  "language_info": {
   "codemirror_mode": {
    "name": "ipython",
    "version": 3
   },
   "file_extension": ".py",
   "mimetype": "text/x-python",
   "name": "python",
   "nbconvert_exporter": "python",
   "pygments_lexer": "ipython3",
   "version": "3.6.0"
  }
 },
 "nbformat": 4,
 "nbformat_minor": 0
}
