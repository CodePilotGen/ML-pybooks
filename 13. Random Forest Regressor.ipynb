{
 "cells": [
  {
   "cell_type": "code",
   "execution_count": 1,
   "metadata": {
    "collapsed": true
   },
   "outputs": [],
   "source": [
    "import numpy as np\n",
    "import matplotlib.pyplot as plt\n",
    "%matplotlib inline"
   ]
  },
  {
   "cell_type": "markdown",
   "metadata": {},
   "source": [
    "# Random Forest Regressor"
   ]
  },
  {
   "cell_type": "code",
   "execution_count": 2,
   "metadata": {
    "collapsed": true
   },
   "outputs": [],
   "source": [
    "from sklearn.datasets import load_boston\n",
    "data = load_boston()"
   ]
  },
  {
   "cell_type": "code",
   "execution_count": 3,
   "metadata": {
    "collapsed": true
   },
   "outputs": [],
   "source": [
    "feature_names = data.feature_names\n",
    "X = data.data\n",
    "y = data.target\n",
    "N, d = X.shape"
   ]
  },
  {
   "cell_type": "code",
   "execution_count": 4,
   "metadata": {
    "collapsed": false
   },
   "outputs": [
    {
     "name": "stdout",
     "output_type": "stream",
     "text": [
      "379 127\n"
     ]
    }
   ],
   "source": [
    "from sklearn.cross_validation import train_test_split\n",
    "X_train, X_test, y_train, y_test = train_test_split(X, y, test_size = 0.25, random_state = 4)\n",
    "N_train, = y_train.shape\n",
    "N_test,  = y_test.shape\n",
    "print(N_train, N_test)"
   ]
  },
  {
   "cell_type": "code",
   "execution_count": 5,
   "metadata": {
    "collapsed": false
   },
   "outputs": [
    {
     "data": {
      "text/plain": [
       "RandomForestRegressor(bootstrap=True, criterion='mse', max_depth=None,\n",
       "           max_features='auto', max_leaf_nodes=None, min_samples_leaf=1,\n",
       "           min_samples_split=2, min_weight_fraction_leaf=0.0,\n",
       "           n_estimators=100, n_jobs=1, oob_score=False, random_state=None,\n",
       "           verbose=0, warm_start=False)"
      ]
     },
     "execution_count": 5,
     "metadata": {},
     "output_type": "execute_result"
    }
   ],
   "source": [
    "from sklearn import ensemble\n",
    "rf_model = ensemble.RandomForestRegressor(n_estimators = 100)\n",
    "rf_model.fit(X_train, y_train)"
   ]
  },
  {
   "cell_type": "code",
   "execution_count": 6,
   "metadata": {
    "collapsed": false
   },
   "outputs": [
    {
     "name": "stdout",
     "output_type": "stream",
     "text": [
      "1.68553287335 14.4891311102\n"
     ]
    }
   ],
   "source": [
    "MSE_train = np.mean((rf_model.predict(X_train) - y_train)**2)\n",
    "MSE_test  = np.mean((rf_model.predict(X_test ) - y_test )**2)\n",
    "print(MSE_train, MSE_test)"
   ]
  },
  {
   "cell_type": "markdown",
   "metadata": {},
   "source": [
    "## Значимость признаков"
   ]
  },
  {
   "cell_type": "code",
   "execution_count": 7,
   "metadata": {
    "collapsed": false
   },
   "outputs": [
    {
     "data": {
      "text/plain": [
       "RandomForestRegressor(bootstrap=True, criterion='mse', max_depth=None,\n",
       "           max_features='auto', max_leaf_nodes=None, min_samples_leaf=1,\n",
       "           min_samples_split=2, min_weight_fraction_leaf=0.0,\n",
       "           n_estimators=100, n_jobs=1, oob_score=False, random_state=None,\n",
       "           verbose=0, warm_start=False)"
      ]
     },
     "execution_count": 7,
     "metadata": {},
     "output_type": "execute_result"
    }
   ],
   "source": [
    "rf_model = ensemble.RandomForestRegressor(n_estimators = 100)\n",
    "rf_model.fit(X, y)"
   ]
  },
  {
   "cell_type": "code",
   "execution_count": 8,
   "metadata": {
    "collapsed": false
   },
   "outputs": [
    {
     "name": "stdout",
     "output_type": "stream",
     "text": [
      "Feature ranking:\n",
      " 1.      RM: 0.415663\n",
      " 2.   LSTAT: 0.391256\n",
      " 3.     DIS: 0.064457\n",
      " 4.    CRIM: 0.033391\n",
      " 5.     NOX: 0.025700\n",
      " 6. PTRATIO: 0.015889\n",
      " 7.     TAX: 0.015622\n",
      " 8.     AGE: 0.014139\n",
      " 9.       B: 0.011327\n",
      "10.   INDUS: 0.006110\n",
      "11.     RAD: 0.004754\n",
      "12.      ZN: 0.000849\n",
      "13.    CHAS: 0.000841\n"
     ]
    }
   ],
   "source": [
    "importances = rf_model.feature_importances_\n",
    "indices = np.argsort(importances)[:-(d + 1):-1]\n",
    "\n",
    "print(\"Feature ranking:\")\n",
    "\n",
    "for f in range(d):\n",
    "    print(\"%2d. %7s: %f\" % (f + 1, feature_names[indices[f]], importances[indices[f]]))"
   ]
  },
  {
   "cell_type": "code",
   "execution_count": 9,
   "metadata": {
    "collapsed": false
   },
   "outputs": [
    {
     "data": {
      "text/plain": [
       "(-1, 13L)"
      ]
     },
     "execution_count": 9,
     "metadata": {},
     "output_type": "execute_result"
    },
    {
     "data": {
      "image/png": "[encoded data removed]",
      "text/plain": [
       "<matplotlib.figure.Figure at 0x9692908>"
      ]
     },
     "metadata": {},
     "output_type": "display_data"
    }
   ],
   "source": [
    "plt.title(\"Feature importances\")\n",
    "plt.bar(range(d), importances[indices], align = 'center', color = 'r')\n",
    "plt.xticks(range(d), np.array(feature_names)[indices], rotation = 45)\n",
    "plt.xlim([-1, d])"
   ]
  },
  {
   "cell_type": "markdown",
   "metadata": {},
   "source": [
    " # Некоторые алгоритмы для решения задачи восстановления регрессии в `Scikit-Learn`\n",
    " \n",
    " Метод    |  Класс\n",
    "----------|---------------------------------------------         \n",
    " kNN      | `sklearn.neighbors.KNeighborsRegressor`\n",
    " Linear   | `sklearn.linear_model.LinearRegression`\n",
    " SVR      | `sklearn.svm.SVR`\n",
    " Tree     | `sklearn.tree.DecisionTreeRegressor`\n",
    " RF       | `sklearn.ensemble.RandomForestRegressor`\n",
    " AdaBoost | `sklearn.ensemble.AdaBoostRegressor`\n",
    " GBT      | `sklearn.ensemble.GradientBoostingRegressor`\n",
    " \n",
    "\n",
    "\n",
    "  Методы класса               | kNN | Linear | SVR | Tree | RF | AdaBoost | GBT     \n",
    "------------------------------|-----|--------|-----|------|----|----------|------\n",
    " `fit(X, y)`                  |  +  |    +   |  +  |  +   | +  |    +     |  +\n",
    " `predict(X)`                 |  +  |    +   |  +  |  +   | +  |    +     |  +\n",
    " `score(X, y)`                |  +  |    +   |  +  |  +   | +  |    +     |  +\n",
    " `decision_function(X)`       |     |    +   |  +  |      |    |    +     |  +\n",
    " `transform(X)`               |     |        |     |  +   | +  |          |  +\n",
    " `staged_decision_function(X)`|     |        |     |      |    |          |  +\n",
    " `staged_predict(X)`          |     |        |     |      |    |    +     |  +\n",
    " `staged_score(X, y)`         |     |        |     |      |    |    +     |  +\n",
    " `set_params(**params)`       |  +  |    +   |  +  |  +   | +  |    +     |  +\n",
    " `get_params()`               |  +  |    +   |  +  |  +   | +  |    +     |  +\n",
    "\n",
    "\n"
   ]
  },
  {
   "cell_type": "code",
   "execution_count": null,
   "metadata": {
    "collapsed": true
   },
   "outputs": [],
   "source": []
  }
 ],
 "metadata": {
  "kernelspec": {
   "display_name": "Python 3",
   "language": "python",
   "name": "python3"
  },
  "language_info": {
   "codemirror_mode": {
    "name": "ipython",
    "version": 3
   },
   "file_extension": ".py",
   "mimetype": "text/x-python",
   "name": "python",
   "nbconvert_exporter": "python",
   "pygments_lexer": "ipython3",
   "version": "3.6.0"
  }
 },
 "nbformat": 4,
 "nbformat_minor": 0
}
