{
 "cells": [
  {
   "cell_type": "markdown",
   "metadata": {},
   "source": [
    "Зачем нужен отбор признаков?"
   ]
  },
  {
   "cell_type": "code",
   "execution_count": 79,
   "metadata": {
    "collapsed": true
   },
   "outputs": [],
   "source": [
    "import numpy as np\n",
    "import matplotlib.pyplot as plt\n",
    "%matplotlib inline"
   ]
  },
  {
   "cell_type": "markdown",
   "metadata": {},
   "source": [
    "Сгенерируем обучающую выборку с объектами двух классов"
   ]
  },
  {
   "cell_type": "code",
   "execution_count": 105,
   "metadata": {
    "collapsed": false
   },
   "outputs": [],
   "source": [
    "N = 30\n",
    "np.random.seed(0)\n",
    "x0 = np.concatenate((np.random.randn(N/2), np.random.randn(N/2) + 3))\n",
    "x0 = np.reshape(x0, (N, 1))\n",
    "x1 = np.random.rand(N)\n",
    "x1 = np.reshape(x1, (N, 1))\n",
    "X = np.hstack((x0, x1))\n",
    "y = np.array((N/2)*[0] + (N/2)*[1])"
   ]
  },
  {
   "cell_type": "code",
   "execution_count": 106,
   "metadata": {
    "collapsed": false
   },
   "outputs": [
    {
     "data": {
      "text/plain": [
       "(-3, 6)"
      ]
     },
     "execution_count": 106,
     "metadata": {},
     "output_type": "execute_result"
    },
    {
     "data": {
      "image/png": "[encoded data removed]",
      "text/plain": [
       "<matplotlib.figure.Figure at 0xb34b128>"
      ]
     },
     "metadata": {},
     "output_type": "display_data"
    }
   ],
   "source": [
    "plt.scatter(X[:, 0], X[:, 1], color = np.array(('b', 'r'))[y], alpha = 0.75)\n",
    "plt.ylim((0, 1))\n",
    "plt.xlim((-3, 6))"
   ]
  },
  {
   "cell_type": "markdown",
   "metadata": {},
   "source": [
    "Тестовая выборка:"
   ]
  },
  {
   "cell_type": "code",
   "execution_count": 107,
   "metadata": {
    "collapsed": false
   },
   "outputs": [],
   "source": [
    "N_test = 100\n",
    "x0_test = np.concatenate((np.random.randn(N_test/2), np.random.randn(N_test/2) + 3))\n",
    "x0_test = np.reshape(x0_test, (N_test, 1))\n",
    "x1_test = np.random.rand(N_test)\n",
    "x1_test = np.reshape(x1_test, (N_test, 1))\n",
    "X_test = np.hstack((x0_test, x1_test))\n",
    "y_test = np.array((N_test/2)*[0] + (N_test/2)*[1])"
   ]
  },
  {
   "cell_type": "markdown",
   "metadata": {},
   "source": [
    "Эксперимент:"
   ]
  },
  {
   "cell_type": "code",
   "execution_count": 108,
   "metadata": {
    "collapsed": false
   },
   "outputs": [
    {
     "name": "stdout",
     "output_type": "stream",
     "text": [
      "0.0666666666667\n",
      "0.14\n"
     ]
    }
   ],
   "source": [
    "from sklearn import discriminant_analysis\n",
    "lda_model = discriminant_analysis.LinearDiscriminantAnalysis()\n",
    "lda_model.fit(X, y)\n",
    "y_pred = lda_model.predict(X)\n",
    "y_test_pred = lda_model.predict(X_test)\n",
    "print np.mean(y != y_pred)\n",
    "print np.mean(y_test != y_test_pred)"
   ]
  },
  {
   "cell_type": "code",
   "execution_count": 109,
   "metadata": {
    "collapsed": false
   },
   "outputs": [
    {
     "name": "stdout",
     "output_type": "stream",
     "text": [
      "0.1\n",
      "0.05\n"
     ]
    }
   ],
   "source": [
    "lda_model.fit(x0, y)\n",
    "y_pred = lda_model.predict(x0)\n",
    "y_test_pred = lda_model.predict(x0_test)\n",
    "print np.mean(y != y_pred)\n",
    "print np.mean(y_test != y_test_pred)"
   ]
  },
  {
   "cell_type": "code",
   "execution_count": 110,
   "metadata": {
    "collapsed": false
   },
   "outputs": [
    {
     "name": "stdout",
     "output_type": "stream",
     "text": [
      "0.333333333333\n",
      "0.54\n"
     ]
    }
   ],
   "source": [
    "lda_model.fit(x1, y)\n",
    "y_pred = lda_model.predict(x1)\n",
    "y_test_pred = lda_model.predict(x1_test)\n",
    "print np.mean(y != y_pred)\n",
    "print np.mean(y_test != y_test_pred)"
   ]
  },
  {
   "cell_type": "markdown",
   "metadata": {},
   "source": [
    "Метод $k$-ближайших соседей"
   ]
  },
  {
   "cell_type": "code",
   "execution_count": 112,
   "metadata": {
    "collapsed": false
   },
   "outputs": [],
   "source": [
    "from sklearn import neighbors\n",
    "err_train = []\n",
    "err_test = []\n",
    "k_range = range(1, N)\n",
    "for k in k_range:\n",
    "    knn_model = neighbors.KNeighborsClassifier(n_neighbors = k)\n",
    "    knn_model.fit(X, y)\n",
    "    y_pred      = knn_model.predict(X)\n",
    "    y_test_pred = knn_model.predict(X_test)\n",
    "    err_train.append(np.mean(y != y_pred))\n",
    "    err_test.append(np.mean(y_test != y_test_pred))"
   ]
  },
  {
   "cell_type": "code",
   "execution_count": 113,
   "metadata": {
    "collapsed": false
   },
   "outputs": [],
   "source": [
    "err0_train = []\n",
    "err0_test = []\n",
    "for k in k_range:\n",
    "    knn_model = neighbors.KNeighborsClassifier(n_neighbors = k)\n",
    "    knn_model.fit(x0, y)\n",
    "    y_pred      = knn_model.predict(x0)\n",
    "    y_test_pred = knn_model.predict(x0_test)\n",
    "    err0_train.append(np.mean(y != y_pred))\n",
    "    err0_test.append(np.mean(y_test != y_test_pred))"
   ]
  },
  {
   "cell_type": "code",
   "execution_count": 114,
   "metadata": {
    "collapsed": false
   },
   "outputs": [
    {
     "data": {
      "text/plain": [
       "[<matplotlib.lines.Line2D at 0xac38780>]"
      ]
     },
     "execution_count": 114,
     "metadata": {},
     "output_type": "execute_result"
    },
    {
     "data": {
      "image/png": "[encoded data removed]",
      "text/plain": [
       "<matplotlib.figure.Figure at 0xb2c3f60>"
      ]
     },
     "metadata": {},
     "output_type": "display_data"
    }
   ],
   "source": [
    "plt.plot(k_range, err_train, 'r')\n",
    "plt.plot(k_range, err_test, 'b')\n",
    "plt.plot(k_range, err0_train, 'r--')\n",
    "plt.plot(k_range, err0_test, 'b--')"
   ]
  },
  {
   "cell_type": "code",
   "execution_count": null,
   "metadata": {
    "collapsed": true
   },
   "outputs": [],
   "source": []
  },
  {
   "cell_type": "code",
   "execution_count": null,
   "metadata": {
    "collapsed": true
   },
   "outputs": [],
   "source": []
  }
 ],
 "metadata": {
  "kernelspec": {
   "display_name": "Python 3",
   "language": "python",
   "name": "python3"
  },
  "language_info": {
   "codemirror_mode": {
    "name": "ipython",
    "version": 3
   },
   "file_extension": ".py",
   "mimetype": "text/x-python",
   "name": "python",
   "nbconvert_exporter": "python",
   "pygments_lexer": "ipython3",
   "version": "3.6.0"
  }
 },
 "nbformat": 4,
 "nbformat_minor": 0
}
