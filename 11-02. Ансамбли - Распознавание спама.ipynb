{
 "cells": [
  {
   "cell_type": "code",
   "execution_count": 1,
   "metadata": {
    "collapsed": true
   },
   "outputs": [],
   "source": [
    "import numpy as np\n",
    "import matplotlib.pyplot as plt\n",
    "%matplotlib inline"
   ]
  },
  {
   "cell_type": "code",
   "execution_count": 2,
   "metadata": {
    "collapsed": false
   },
   "outputs": [
    {
     "name": "stdout",
     "output_type": "stream",
     "text": [
      "5574 560\n"
     ]
    }
   ],
   "source": [
    "Data = np.loadtxt('../source/sms.dat', delimiter = \" \", dtype = str, skiprows = 1)\n",
    "N, dp1 = Data.shape\n",
    "d = dp1 - 1\n",
    "print(N, d)"
   ]
  },
  {
   "cell_type": "code",
   "execution_count": 3,
   "metadata": {
    "collapsed": false
   },
   "outputs": [
    {
     "name": "stdout",
     "output_type": "stream",
     "text": [
      "4827\n",
      "747\n"
     ]
    }
   ],
   "source": [
    "print(np.count_nonzero(Data[:, -1] == 'ham'))\n",
    "print(np.count_nonzero(Data[:, -1] == 'spam'))"
   ]
  },
  {
   "cell_type": "code",
   "execution_count": 4,
   "metadata": {
    "collapsed": false
   },
   "outputs": [
    {
     "data": {
      "text/plain": [
       "560"
      ]
     },
     "execution_count": 4,
     "metadata": {},
     "output_type": "execute_result"
    }
   ],
   "source": [
    "names = ['abl', 'abt', 'account', 'actual', 'address', 'aft', 'afternoon', 'age', 'aight', 'alon', 'alreadi', 'alright', 'also', 'alway', 'amp', 'angri', 'anoth', 'answer', 'anyon', 'anyth', 'anytim', 'anyway', 'appli', 'ard', 'around', 'ask', 'attempt', 'auction', 'avail', 'await', 'award', 'away', 'awesom', 'babe', 'babi', 'back', 'bad', 'bath', 'bday', 'beauti', 'bed', 'believ', 'best', 'better', 'big', 'bill', 'birthday', 'bit', 'bonus', 'book', 'bore', 'bout', 'box', 'boy', 'boytoy', 'break.', 'bring', 'brother', 'bus', 'busi', 'buy', 'call', 'caller', 'camcord', 'came', 'camera', 'can', 'cant', 'car', 'card', 'care', 'carlo', 'cash', 'caus', 'chanc', 'chang', 'charg', 'chat', 'check', 'choos', 'claim', 'class', 'close', 'club', 'code', 'collect', 'colleg', 'colour', 'come', 'compani', 'complet', 'congrat', 'congratul', 'contact', 'content', 'cool', 'cos', 'cost', 'coz', 'crazi', 'credit', 'cum', 'current', 'custom', 'cut', 'dad', 'dat', 'date', 'day', 'dear', 'decid', 'deliveri', 'den', 'detail', 'didnt', 'die', 'dinner', 'direct', 'dis', 'doesnt', 'dog', 'done', 'dont', 'doubl', 'download', 'draw', 'dream', 'drink', 'drive', 'drop', 'drug', 'dude', 'dun', 'dunno', 'earli', 'easi', 'eat', 'either', 'els', 'email', 'end', 'enjoy', 'enough', 'enter', 'entri', 'eve', 'even', 'ever', 'everi', 'everyon', 'everyth', 'exam', 'expir', 'face', 'famili', 'fanci', 'far', 'feel', 'final', 'find', 'fine', 'finish', 'first', 'follow', 'fone', 'food', 'forget', 'forgot', 'forward', 'found', 'free', 'fri', 'friend', 'friendship', 'frnd', 'fuck', 'full', 'fun', 'game', 'get', 'gift', 'girl', 'give', 'god', 'goe', 'goin', 'gone', 'gonna', 'good', 'got', 'great', 'guarante', 'gud', 'guess', 'guy', 'haf', 'haha', 'hair', 'half', 'hand', 'happen', 'happi', 'hard', 'hav', 'havent', 'head', 'hear', 'heart', 'hello', 'help', 'hes', 'hey', 'hit', 'hold', 'holiday', 'home', 'hope', 'hot', 'hour', 'hous', 'how', 'hrs', 'huh', 'hurt', 'identifi', 'ill', 'import', 'inform', 'invit', 'isnt', 'ive', 'job', 'join', 'joke', 'jus', 'just', 'juz', 'keep', 'kind', 'kiss', 'know', 'knw', 'land', 'landlin', 'lar', 'last', 'late', 'later', 'latest', 'laugh', 'leav', 'left', 'leh', 'lei', 'lesson', 'let', 'liao', 'life', 'light', 'like', 'line', 'listen', 'littl', 'live', 'log', 'lol', 'long', 'look', 'lor', 'lose', 'lot', 'love', 'ltd', 'ltdecimalgt', 'lucki', 'lunch', 'luv', 'made', 'mail', 'make', 'man', 'mani', 'match', 'mate', 'may', 'mayb', 'mean', 'meet', 'messag', 'might', 'min', 'mind', 'mine', 'minut', 'miss', 'mob', 'mobil', 'mobileupd', 'mom', 'money', 'month', 'morn', 'move', 'movi', 'mrng', 'msg', 'mths', 'much', 'mum', 'music', 'must', 'muz', 'name', 'need', 'network', 'neva', 'never', 'new', 'news', 'next.', 'nice', 'night', 'nite', 'noe', 'nokia', 'nope', 'noth', 'now', 'number', 'offer', 'offic', 'okay', 'oki', 'old', 'one', 'onlin', 'open', 'oper', 'orang', 'order', 'oredi', 'oso', 'outsid', 'pain', 'parent', 'park', 'part', 'parti', 'pass', 'pay', 'peopl', 'per', 'person', 'phone', 'pic', 'pick', 'place', 'plan', 'play', 'player', 'pleas', 'pls', 'plus', 'plz', 'pmin', 'pmsg', 'pobox', 'point', 'poli', 'post', 'pound', 'ppm', 'pretti', 'price', 'princess', 'privat', 'prize', 'prob', 'probabl', 'problem', 'pub', 'put', 'question', 'quit', 'rain', 'rate', 'reach', 'read', 'readi', 'real', 'realli', 'reason', 'receiv', 'rememb', 'repli', 'right', 'ring', 'rington', 'rite', 'room', 'run', 'sad', 'sae', 'said', 'sat', 'saturday', 'save', 'saw', 'say', 'sch', 'school', 'sea', 'search', 'second', 'secret', 'see', 'seem', 'select', 'sell', 'send', 'sent', 'serious', 'servic', 'set', 'sexi', 'shall', 'shes', 'shit', 'shop', 'show', 'simpl', 'sinc', 'sir', 'sis', 'sister', 'sit', 'sleep', 'smile', 'smoke', 'sms', 'smth', 'someon', 'someth', 'song', 'soon', 'sorri', 'sort', 'sound', 'speak', 'special', 'start', 'statement', 'stay', 'still', 'stop', 'stori', 'studi', 'stuff', 'sun', 'sure', 'surpris', 'sweet', 'take', 'talk', 'tcs', 'tell', 'test', 'text', 'thank', 'thanx', 'that', 'there', 'thing', 'think', 'thk', 'tho', 'though', 'thought', 'ticket', 'til', 'till', 'time', 'tmr', 'today', 'togeth', 'told', 'tomo', 'tomorrow', 'tone', 'tonight', 'took', 'top', 'tot', 'touch', 'town', 'train', 'treat', 'tri', 'trip', 'true', 'tscs', 'two', 'txt', 'type', 'uncl', 'unredeem', 'unsubscrib', 'updat', 'urgent', 'use', 'valentin', 'valid', 'valu', 'video', 'voucher', 'wait', 'wake', 'walk', 'wan', 'wanna', 'want', 'wat', 'watch', 'way', 'week', 'weekend', 'welcom', 'well', 'wen', 'went', 'what', 'whatev', 'wid', 'wif', 'wife', 'wil', 'will', 'win', 'winner', 'wish', 'wit', 'without', 'won', 'wonder', 'wont', 'word', 'work', 'world', 'worri', 'wot', 'wrong', 'xmas', 'xxx', 'yeah', 'year', 'yes', 'yesterday', 'yet', 'your', 'yup']\n",
    "len(names)"
   ]
  },
  {
   "cell_type": "code",
   "execution_count": 5,
   "metadata": {
    "collapsed": false
   },
   "outputs": [],
   "source": [
    "X = np.zeros((N, d), dtype = int)\n",
    "X[Data == 'yes'] = 1\n",
    "y = np.zeros((N), dtype = int)\n",
    "y[Data[:, -1] == 'spam'] = 1"
   ]
  },
  {
   "cell_type": "code",
   "execution_count": 6,
   "metadata": {
    "collapsed": true
   },
   "outputs": [],
   "source": [
    "from sklearn.cross_validation import train_test_split\n",
    "X_train, X_test, y_train, y_test = train_test_split(X, y, test_size = 0.25, random_state = 0)"
   ]
  },
  {
   "cell_type": "markdown",
   "metadata": {},
   "source": [
    "## Random Forest"
   ]
  },
  {
   "cell_type": "code",
   "execution_count": 7,
   "metadata": {
    "collapsed": false
   },
   "outputs": [
    {
     "data": {
      "text/plain": [
       "RandomForestClassifier(bootstrap=True, compute_importances=None,\n",
       "            criterion='gini', max_depth=None, max_features='auto',\n",
       "            max_leaf_nodes=None, min_density=None, min_samples_leaf=1,\n",
       "            min_samples_split=2, n_estimators=100, n_jobs=1,\n",
       "            oob_score=False, random_state=None, verbose=0)"
      ]
     },
     "execution_count": 7,
     "metadata": {},
     "output_type": "execute_result"
    }
   ],
   "source": [
    "from sklearn import ensemble\n",
    "rf_model = ensemble.RandomForestClassifier(n_estimators = 100)\n",
    "rf_model.fit(X_train, y_train)"
   ]
  },
  {
   "cell_type": "code",
   "execution_count": 8,
   "metadata": {
    "collapsed": false
   },
   "outputs": [
    {
     "name": "stdout",
     "output_type": "stream",
     "text": [
      "0.000478468899522\n",
      "0.0294117647059\n"
     ]
    }
   ],
   "source": [
    "y_train_pred = rf_model.predict(X_train)\n",
    "y_test_pred = rf_model.predict(X_test)\n",
    "\n",
    "print(np.mean(y_train_pred != y_train))\n",
    "print(np.mean(y_test_pred != y_test))"
   ]
  },
  {
   "cell_type": "code",
   "execution_count": 9,
   "metadata": {
    "collapsed": false
   },
   "outputs": [
    {
     "name": "stdout",
     "output_type": "stream",
     "text": [
      "[[1184   27]\n",
      " [  14  169]]\n"
     ]
    }
   ],
   "source": [
    "from sklearn.metrics import confusion_matrix\n",
    "CF = confusion_matrix(y_test_pred, y_test)\n",
    "print(CF)"
   ]
  },
  {
   "cell_type": "code",
   "execution_count": 10,
   "metadata": {
    "collapsed": false
   },
   "outputs": [
    {
     "name": "stdout",
     "output_type": "stream",
     "text": [
      "0.0116861435726 0.137755102041\n"
     ]
    }
   ],
   "source": [
    "fpr = float(CF[1, 0])/(CF[0, 0] + CF[1, 0])\n",
    "fnr = float(CF[0, 1])/(CF[0, 1] + CF[1, 1])\n",
    "print(fpr, fnr)"
   ]
  },
  {
   "cell_type": "markdown",
   "metadata": {},
   "source": [
    "### ROC-кривая"
   ]
  },
  {
   "cell_type": "code",
   "execution_count": 32,
   "metadata": {
    "collapsed": false
   },
   "outputs": [],
   "source": [
    "from sklearn.metrics import roc_curve\n",
    "proba = rf_model.predict_proba(X_test)[:, 1]"
   ]
  },
  {
   "cell_type": "code",
   "execution_count": 33,
   "metadata": {
    "collapsed": false
   },
   "outputs": [
    {
     "data": {
      "image/png": "[encoded data removed]",
      "text/plain": [
       "<matplotlib.figure.Figure at 0x1f85ee48>"
      ]
     },
     "metadata": {},
     "output_type": "display_data"
    }
   ],
   "source": [
    "plt.hist(proba[y_test == 0], color = 'b', alpha = 0.5, normed = True)\n",
    "plt.hist(proba[y_test == 1], color = 'r', alpha = 0.5, normed = True)\n",
    "pass"
   ]
  },
  {
   "cell_type": "code",
   "execution_count": 34,
   "metadata": {
    "collapsed": true
   },
   "outputs": [],
   "source": [
    "fpr, tpr, thresholds = roc_curve(y_test, proba)"
   ]
  },
  {
   "cell_type": "code",
   "execution_count": 35,
   "metadata": {
    "collapsed": false
   },
   "outputs": [
    {
     "data": {
      "text/plain": [
       "[-0.05, 1.05, -0.05, 1.05]"
      ]
     },
     "execution_count": 35,
     "metadata": {},
     "output_type": "execute_result"
    },
    {
     "data": {
      "image/png": "[encoded data removed]",
      "text/plain": [
       "<matplotlib.figure.Figure at 0x1b572160>"
      ]
     },
     "metadata": {},
     "output_type": "display_data"
    }
   ],
   "source": [
    "plt.title('Receiver Operating Characteristic')\n",
    "plt.plot(np.concatenate(([0], fpr)), np.concatenate(([0], tpr)))\n",
    "plt.ylabel('True Positive Rate (Sensitivity)')\n",
    "plt.xlabel('False Positive Rate (1 - Specificity)')\n",
    "plt.plot([0, 1], [0, 1], 'k--')\n",
    "plt.axis([-0.05, 1.05, -0.05, 1.05])"
   ]
  },
  {
   "cell_type": "code",
   "execution_count": 36,
   "metadata": {
    "collapsed": false
   },
   "outputs": [
    {
     "data": {
      "text/plain": [
       "0.98145719055568814"
      ]
     },
     "execution_count": 36,
     "metadata": {},
     "output_type": "execute_result"
    }
   ],
   "source": [
    "from sklearn.metrics import auc\n",
    "auc(fpr, tpr)"
   ]
  },
  {
   "cell_type": "code",
   "execution_count": 37,
   "metadata": {
    "collapsed": false
   },
   "outputs": [
    {
     "name": "stdout",
     "output_type": "stream",
     "text": [
      "0.41 0.0242070116861 0.0918367346939\n"
     ]
    }
   ],
   "source": [
    "fpr_max = 0.025 # Зададим порог для fpr. Определим, чему должен быть равен tpr (fnr)\n",
    "for i in range(len(thresholds) - 1):\n",
    "    if fpr[i] <= fpr_max and fpr[i + 1] > fpr_max:\n",
    "        print(thresholds[i], fpr[i], 1-tpr[i])"
   ]
  },
  {
   "cell_type": "code",
   "execution_count": 38,
   "metadata": {
    "collapsed": false
   },
   "outputs": [
    {
     "data": {
      "text/plain": [
       "0.98145719055568814"
      ]
     },
     "execution_count": 38,
     "metadata": {},
     "output_type": "execute_result"
    }
   ],
   "source": [
    "from sklearn.metrics import auc\n",
    "auc(fpr, tpr)"
   ]
  },
  {
   "cell_type": "markdown",
   "metadata": {
    "collapsed": true
   },
   "source": [
    "### Значимость признаков"
   ]
  },
  {
   "cell_type": "code",
   "execution_count": 39,
   "metadata": {
    "collapsed": false
   },
   "outputs": [
    {
     "name": "stdout",
     "output_type": "stream",
     "text": [
      "Feature ranking:\n",
      " 1. feature '  txt' (0.051614)\n",
      " 2. feature ' free' (0.050509)\n",
      " 3. feature ' call' (0.040870)\n",
      " 4. feature 'mobil' (0.036273)\n",
      " 5. feature 'claim' (0.035765)\n",
      " 6. feature 'prize' (0.028062)\n",
      " 7. feature ' text' (0.027376)\n",
      " 8. feature 'repli' (0.024849)\n",
      " 9. feature ' stop' (0.019112)\n",
      "10. feature '  win' (0.018757)\n"
     ]
    }
   ],
   "source": [
    "importances = rf_model.feature_importances_\n",
    "indices = np.argsort(importances)[:-11:-1]\n",
    "\n",
    "print(\"Feature ranking:\")\n",
    "\n",
    "for f in range(10):\n",
    "    print(\"%2d. feature '%5s' (%f)\" % (f + 1, names[indices[f]], importances[indices[f]]))"
   ]
  },
  {
   "cell_type": "code",
   "execution_count": 40,
   "metadata": {
    "collapsed": false
   },
   "outputs": [
    {
     "data": {
      "text/plain": [
       "(-1, 10)"
      ]
     },
     "execution_count": 40,
     "metadata": {},
     "output_type": "execute_result"
    },
    {
     "data": {
      "image/png": "[encoded data removed]",
      "text/plain": [
       "<matplotlib.figure.Figure at 0x1bbf5d30>"
      ]
     },
     "metadata": {},
     "output_type": "display_data"
    }
   ],
   "source": [
    "plt.title(\"Feature importances\")\n",
    "plt.bar(range(10), importances[indices], align = 'center', color = 'r')\n",
    "plt.xticks(range(10), np.array(names)[indices])\n",
    "plt.xlim([-1, 10])"
   ]
  },
  {
   "cell_type": "markdown",
   "metadata": {},
   "source": [
    "### Out-of-bag ошибка (OOB error)"
   ]
  },
  {
   "cell_type": "code",
   "execution_count": 11,
   "metadata": {
    "collapsed": false
   },
   "outputs": [
    {
     "name": "stdout",
     "output_type": "stream",
     "text": [
      "0.0267942583732\n"
     ]
    }
   ],
   "source": [
    "rf_model = ensemble.RandomForestClassifier(n_estimators = 100, \n",
    "                                           oob_score = True)\n",
    "rf_model.fit(X_train, y_train)\n",
    "print(1 - rf_model.oob_score_)"
   ]
  },
  {
   "cell_type": "markdown",
   "metadata": {
    "collapsed": true
   },
   "source": [
    "## AdaBoost"
   ]
  },
  {
   "cell_type": "code",
   "execution_count": 10,
   "metadata": {
    "collapsed": false
   },
   "outputs": [
    {
     "data": {
      "text/plain": [
       "AdaBoostClassifier(algorithm='SAMME.R', base_estimator=None,\n",
       "          learning_rate=1.0, n_estimators=100, random_state=None)"
      ]
     },
     "execution_count": 10,
     "metadata": {},
     "output_type": "execute_result"
    }
   ],
   "source": [
    "ada_model = ensemble.AdaBoostClassifier(n_estimators = 100)\n",
    "ada_model.fit(X_train, y_train)"
   ]
  },
  {
   "cell_type": "code",
   "execution_count": 11,
   "metadata": {
    "collapsed": false
   },
   "outputs": [
    {
     "name": "stdout",
     "output_type": "stream",
     "text": [
      "0.000478468899522\n",
      "0.0286944045911\n"
     ]
    }
   ],
   "source": [
    "y_train_pred = rf_model.predict(X_train)\n",
    "y_test_pred = rf_model.predict(X_test)\n",
    "\n",
    "print(np.mean(y_train_pred != y_train))\n",
    "print(np.mean(y_test_pred != y_test))"
   ]
  },
  {
   "cell_type": "code",
   "execution_count": 12,
   "metadata": {
    "collapsed": false
   },
   "outputs": [
    {
     "name": "stdout",
     "output_type": "stream",
     "text": [
      "[[1185   27]\n",
      " [  13  169]]\n"
     ]
    }
   ],
   "source": [
    "from sklearn.metrics import confusion_matrix\n",
    "CF = confusion_matrix(y_test_pred, y_test)\n",
    "print( CF)"
   ]
  },
  {
   "cell_type": "code",
   "execution_count": 13,
   "metadata": {
    "collapsed": false
   },
   "outputs": [
    {
     "name": "stdout",
     "output_type": "stream",
     "text": [
      "0.0108514190317 0.137755102041\n"
     ]
    }
   ],
   "source": [
    "fpr = float(CF[1, 0])/(CF[0, 0] + CF[1, 0])\n",
    "fnr = float(CF[0, 1])/(CF[0, 1] + CF[1, 1])\n",
    "print(fpr, fnr)"
   ]
  },
  {
   "cell_type": "markdown",
   "metadata": {},
   "source": [
    "## GBT"
   ]
  },
  {
   "cell_type": "code",
   "execution_count": 20,
   "metadata": {
    "collapsed": false
   },
   "outputs": [
    {
     "data": {
      "text/plain": [
       "GradientBoostingClassifier(init=None, learning_rate=0.1, loss='deviance',\n",
       "              max_depth=3, max_features=None, max_leaf_nodes=None,\n",
       "              min_samples_leaf=1, min_samples_split=2, n_estimators=1000,\n",
       "              random_state=None, subsample=1.0, verbose=0,\n",
       "              warm_start=False)"
      ]
     },
     "execution_count": 20,
     "metadata": {},
     "output_type": "execute_result"
    }
   ],
   "source": [
    "gbt_model = ensemble.GradientBoostingClassifier(n_estimators = 1000)\n",
    "gbt_model.fit(X_train, y_train)"
   ]
  },
  {
   "cell_type": "code",
   "execution_count": 21,
   "metadata": {
    "collapsed": false
   },
   "outputs": [
    {
     "name": "stdout",
     "output_type": "stream",
     "text": [
      "0.00167464114833\n",
      "0.0251076040172\n"
     ]
    }
   ],
   "source": [
    "y_train_pred = gbt_model.predict(X_train)\n",
    "y_test_pred = gbt_model.predict(X_test)\n",
    "\n",
    "print(np.mean(y_train_pred != y_train))\n",
    "print(np.mean(y_test_pred != y_test))"
   ]
  },
  {
   "cell_type": "code",
   "execution_count": null,
   "metadata": {
    "collapsed": true
   },
   "outputs": [],
   "source": []
  }
 ],
 "metadata": {
  "kernelspec": {
   "display_name": "Python 3",
   "language": "python",
   "name": "python3"
  },
  "language_info": {
   "codemirror_mode": {
    "name": "ipython",
    "version": 3
   },
   "file_extension": ".py",
   "mimetype": "text/x-python",
   "name": "python",
   "nbconvert_exporter": "python",
   "pygments_lexer": "ipython3",
   "version": "3.6.0"
  }
 },
 "nbformat": 4,
 "nbformat_minor": 0
}
