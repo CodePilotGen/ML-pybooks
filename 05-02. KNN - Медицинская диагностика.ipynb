{
 "cells": [
  {
   "cell_type": "code",
   "execution_count": 1,
   "metadata": {
    "collapsed": true
   },
   "outputs": [],
   "source": [
    "import numpy as np\n",
    "import matplotlib.pyplot as plt\n",
    "import sklearn as sk\n",
    "%matplotlib inline"
   ]
  },
  {
   "cell_type": "markdown",
   "metadata": {},
   "source": [
    "# Медицинская диагностика"
   ]
  },
  {
   "cell_type": "code",
   "execution_count": 3,
   "metadata": {
    "collapsed": false
   },
   "outputs": [
    {
     "name": "stdout",
     "output_type": "stream",
     "text": [
      "(109, 3)\n",
      "[[   1.1861009   83.14735      2.       ]\n",
      " [   1.3237845   67.08343      2.       ]\n",
      " [   0.8216278  120.00681      2.       ]\n",
      " [   1.1742367   56.82328      1.       ]\n",
      " [   1.1961126   84.18729      2.       ]\n",
      " [   1.479302    83.16051      2.       ]\n",
      " [   1.2122465   94.83045      2.       ]\n",
      " [   1.2161919   86.86843      2.       ]\n",
      " [   1.1841107   89.14896      2.       ]\n",
      " [   1.768121    62.16319      1.       ]]\n"
     ]
    }
   ],
   "source": [
    "data = np.loadtxt('../source/hos13.dat', skiprows = 1)\n",
    "print(data.shape)\n",
    "print(data[:10, :])"
   ]
  },
  {
   "cell_type": "code",
   "execution_count": 4,
   "metadata": {
    "collapsed": false
   },
   "outputs": [
    {
     "data": {
      "text/plain": [
       "(109, 2)"
      ]
     },
     "execution_count": 4,
     "metadata": {},
     "output_type": "execute_result"
    }
   ],
   "source": [
    "X = data[:, :2]\n",
    "y = np.array(data[:, 2], dtype = int)\n",
    "N, d = X.shape\n",
    "N, d"
   ]
  },
  {
   "cell_type": "code",
   "execution_count": 5,
   "metadata": {
    "collapsed": false
   },
   "outputs": [
    {
     "data": {
      "text/plain": [
       "<matplotlib.legend.Legend at 0x27f32259b70>"
      ]
     },
     "execution_count": 5,
     "metadata": {},
     "output_type": "execute_result"
    },
    {
     "data": {
      "image/png": "[encoded data removed]",
      "text/plain": [
       "<matplotlib.figure.Figure at 0x27f3285b940>"
      ]
     },
     "metadata": {},
     "output_type": "display_data"
    }
   ],
   "source": [
    "plt.figure(figsize = (6, 5))\n",
    "plt.scatter(X[y == 1, 0], X[y == 1, 1], color = 'b', alpha = 0.9, label = 'Low level T4')\n",
    "plt.scatter(X[y == 2, 0], X[y == 2, 1], color = 'r', alpha = 0.9, label = 'High level T4')\n",
    "plt.xlabel('lg SDNN')\n",
    "plt.ylabel('heart')\n",
    "plt.legend()"
   ]
  },
  {
   "cell_type": "code",
   "execution_count": 6,
   "metadata": {
    "collapsed": false
   },
   "outputs": [
    {
     "data": {
      "text/plain": [
       "KNeighborsClassifier(algorithm='auto', leaf_size=30, metric='minkowski',\n",
       "           metric_params=None, n_jobs=1, n_neighbors=5, p=2,\n",
       "           weights='uniform')"
      ]
     },
     "execution_count": 6,
     "metadata": {},
     "output_type": "execute_result"
    }
   ],
   "source": [
    "from sklearn import neighbors\n",
    "model = neighbors.KNeighborsClassifier(n_neighbors = 5)\n",
    "model.fit(X, y)"
   ]
  },
  {
   "cell_type": "code",
   "execution_count": 7,
   "metadata": {
    "collapsed": false
   },
   "outputs": [
    {
     "name": "stdout",
     "output_type": "stream",
     "text": [
      "[1]\n"
     ]
    }
   ],
   "source": [
    "print(model.predict([[30, 90]]))"
   ]
  },
  {
   "cell_type": "code",
   "execution_count": 8,
   "metadata": {
    "collapsed": false
   },
   "outputs": [
    {
     "name": "stdout",
     "output_type": "stream",
     "text": [
      "[[ 0.6  0.4]]\n"
     ]
    }
   ],
   "source": [
    "print(model.predict_proba([[30, 90]]))"
   ]
  },
  {
   "cell_type": "code",
   "execution_count": 9,
   "metadata": {
    "collapsed": false
   },
   "outputs": [
    {
     "data": {
      "text/plain": [
       "<matplotlib.legend.Legend at 0x27f327ed828>"
      ]
     },
     "execution_count": 9,
     "metadata": {},
     "output_type": "execute_result"
    },
    {
     "data": {
      "image/png": "[encoded data removed]",
      "text/plain": [
       "<matplotlib.figure.Figure at 0x27f32937f28>"
      ]
     },
     "metadata": {},
     "output_type": "display_data"
    }
   ],
   "source": [
    "import mysk\n",
    "plt.figure(figsize = (6, 5))\n",
    "plt.scatter(X[y == 1, 0], X[y == 1, 1], color = 'b', alpha = 0.9, label = 'Low level T4')\n",
    "plt.scatter(X[y == 2, 0], X[y == 2, 1], color = 'r', alpha = 0.9, label = 'High level T4')\n",
    "mysk.draw_sep_curve(model)\n",
    "plt.xlabel('lg SDNN')\n",
    "plt.ylabel('heart')\n",
    "plt.legend(framealpha = 1)"
   ]
  },
  {
   "cell_type": "markdown",
   "metadata": {},
   "source": [
    "Наверное, это не совсем то, что мы хотели..."
   ]
  },
  {
   "cell_type": "code",
   "execution_count": 10,
   "metadata": {
    "collapsed": true
   },
   "outputs": [],
   "source": [
    "x0_min, x0_max = X[:, 0].min(), X[:, 0].max()\n",
    "x1_min, x1_max = X[:, 1].min(), X[:, 1].max()\n",
    "d0 = x0_max - x0_min\n",
    "d1 = x1_max - x1_min"
   ]
  },
  {
   "cell_type": "code",
   "execution_count": null,
   "metadata": {
    "collapsed": true
   },
   "outputs": [],
   "source": [
    "from sklearn import preprocessing\n",
    "\n",
    "#X_scaled = preprocessing.scale(X_train)"
   ]
  },
  {
   "cell_type": "code",
   "execution_count": 14,
   "metadata": {
    "collapsed": false
   },
   "outputs": [
    {
     "ename": "NameError",
     "evalue": "name 'weights' is not defined",
     "output_type": "error",
     "traceback": [
      "\u001b[0;31m---------------------------------------------------------------------------\u001b[0m",
      "\u001b[0;31mNameError\u001b[0m                                 Traceback (most recent call last)",
      "\u001b[0;32m<ipython-input-14-824b9ed4f554>\u001b[0m in \u001b[0;36m<module>\u001b[0;34m()\u001b[0m\n\u001b[1;32m      1\u001b[0m model = neighbors.KNeighborsClassifier(n_neighbors = 1, metric = 'wminkowski',\n\u001b[0;32m----> 2\u001b[0;31m                                        metric_params = {weights: [1./d0, 1./d1]})\n\u001b[0m\u001b[1;32m      3\u001b[0m \u001b[0mmodel\u001b[0m\u001b[1;33m.\u001b[0m\u001b[0mfit\u001b[0m\u001b[1;33m(\u001b[0m\u001b[0mX\u001b[0m\u001b[1;33m,\u001b[0m \u001b[0my\u001b[0m\u001b[1;33m)\u001b[0m\u001b[1;33m\u001b[0m\u001b[0m\n",
      "\u001b[0;31mNameError\u001b[0m: name 'weights' is not defined"
     ]
    }
   ],
   "source": [
    "model = neighbors.KNeighborsClassifier(n_neighbors = 1, metric = 'wminkowski',\n",
    "                                       metric_params = {weights: [1./d0, 1./d1]})\n",
    "model.fit(X, y)"
   ]
  },
  {
   "cell_type": "code",
   "execution_count": 15,
   "metadata": {
    "collapsed": false
   },
   "outputs": [
    {
     "name": "stdout",
     "output_type": "stream",
     "text": [
      "[1]\n"
     ]
    }
   ],
   "source": [
    "print(model.predict([[2, 50]]))"
   ]
  },
  {
   "cell_type": "code",
   "execution_count": 16,
   "metadata": {
    "collapsed": false
   },
   "outputs": [
    {
     "name": "stdout",
     "output_type": "stream",
     "text": [
      "[[ 0.  1.]]\n"
     ]
    }
   ],
   "source": [
    "print(model.predict_proba([[1, 170]]))"
   ]
  },
  {
   "cell_type": "code",
   "execution_count": 17,
   "metadata": {
    "collapsed": false
   },
   "outputs": [
    {
     "data": {
      "text/plain": [
       "<matplotlib.legend.Legend at 0x27f32f04c50>"
      ]
     },
     "execution_count": 17,
     "metadata": {},
     "output_type": "execute_result"
    },
    {
     "data": {
      "image/png": "[encoded data removed]",
      "text/plain": [
       "<matplotlib.figure.Figure at 0x27f3296af98>"
      ]
     },
     "metadata": {},
     "output_type": "display_data"
    }
   ],
   "source": [
    "plt.figure(figsize = (6, 5))\n",
    "plt.scatter(X[y == 1, 0], X[y == 1, 1], color = 'b', alpha = 0.9, label = 'Low level T4')\n",
    "plt.scatter(X[y == 2, 0], X[y == 2, 1], color = 'r', alpha = 0.9, label = 'High level T4')\n",
    "mysk.draw_sep_curve(model, res = 100)\n",
    "plt.xlabel('lg SDNN')\n",
    "plt.ylabel('heart')\n",
    "plt.legend(framealpha = 1)"
   ]
  },
  {
   "cell_type": "markdown",
   "metadata": {},
   "source": [
    "### Перекрестный контроль\n",
    "\n",
    "Как проверить качество модели?\n",
    "\n",
    "Данных слишком мало, чтобы делить их на обучающую и тестовую выборки.\n",
    "\n",
    "Будем использовать _перекрестный_ (или _скользящий_) _контроль_ (_cross-validation_)"
   ]
  },
  {
   "cell_type": "code",
   "execution_count": 20,
   "metadata": {
    "collapsed": false
   },
   "outputs": [
    {
     "name": "stdout",
     "output_type": "stream",
     "text": [
      "[ 0.58333333  0.63636364  0.72727273  0.81818182  0.63636364  0.90909091\n",
      "  0.72727273  0.63636364  0.7         0.5       ]\n",
      "Accuracy: 0.69 (+/- 0.22)\n",
      "Error:    0.31 (+/- 0.22)\n"
     ]
    }
   ],
   "source": [
    "from sklearn import cross_validation\n",
    "model = neighbors.KNeighborsClassifier(n_neighbors = 1, metric = 'wminkowski',\n",
    "                                       w = [1./d0, 1./d1])\n",
    "scores = cross_validation.cross_val_score(model, X, y, cv = 10)\n",
    "print scores\n",
    "print(\"Accuracy: %0.2f (+/- %0.2f)\" % (scores.mean(), scores.std() * 2))\n",
    "print(\"Error:    %0.2f (+/- %0.2f)\" % (1 - scores.mean(), scores.std() * 2))"
   ]
  },
  {
   "cell_type": "code",
   "execution_count": null,
   "metadata": {
    "collapsed": false
   },
   "outputs": [],
   "source": [
    "N"
   ]
  },
  {
   "cell_type": "code",
   "execution_count": 21,
   "metadata": {
    "collapsed": false
   },
   "outputs": [],
   "source": [
    "kk = [1, 3, 5, 7] + range(10, 85, 5)\n",
    "err_cv = []\n",
    "for k in kk:\n",
    "    model = neighbors.KNeighborsClassifier(n_neighbors = k)\n",
    "    model.fit(X, y)\n",
    "    scores = cross_validation.cross_val_score(model, X, y, cv = 5)\n",
    "    err_cv.append(1 - scores.mean())"
   ]
  },
  {
   "cell_type": "code",
   "execution_count": 22,
   "metadata": {
    "collapsed": false
   },
   "outputs": [
    {
     "data": {
      "text/plain": [
       "<matplotlib.legend.Legend at 0x4212588>"
      ]
     },
     "execution_count": 22,
     "metadata": {},
     "output_type": "execute_result"
    },
    {
     "data": {
      "image/png": "[encoded data removed]",
      "text/plain": [
       "<matplotlib.figure.Figure at 0x1e8ab38>"
      ]
     },
     "metadata": {},
     "output_type": "display_data"
    }
   ],
   "source": [
    "plt.plot(kk, err_cv, '.-m', label = 'CV error')\n",
    "plt.legend(loc = 'best')"
   ]
  },
  {
   "cell_type": "code",
   "execution_count": 23,
   "metadata": {
    "collapsed": false
   },
   "outputs": [
    {
     "name": "stdout",
     "output_type": "stream",
     "text": [
      "0.239939770375\n",
      "50\n"
     ]
    }
   ],
   "source": [
    "print min(err_cv)\n",
    "print kk[err_cv.index(min(err_cv))]"
   ]
  },
  {
   "cell_type": "code",
   "execution_count": 24,
   "metadata": {
    "collapsed": false
   },
   "outputs": [
    {
     "data": {
      "text/plain": [
       "(85, 0)"
      ]
     },
     "execution_count": 24,
     "metadata": {},
     "output_type": "execute_result"
    },
    {
     "data": {
      "image/png": "[encoded data removed]",
      "text/plain": [
       "<matplotlib.figure.Figure at 0x14208668>"
      ]
     },
     "metadata": {},
     "output_type": "display_data"
    }
   ],
   "source": [
    "plt.plot(kk, err_cv, '.-m', label = 'CV error')\n",
    "plt.legend(loc = 'best')\n",
    "plt.xlim([85, 0])"
   ]
  },
  {
   "cell_type": "markdown",
   "metadata": {},
   "source": [
    "## Стандартизация"
   ]
  },
  {
   "cell_type": "code",
   "execution_count": 25,
   "metadata": {
    "collapsed": false
   },
   "outputs": [
    {
     "name": "stdout",
     "output_type": "stream",
     "text": [
      "[ -1.74681880e-16   1.57315547e-15]\n",
      "[ 1.  1.]\n"
     ]
    }
   ],
   "source": [
    "from sklearn import preprocessing\n",
    "X_scaled = preprocessing.scale(X)\n",
    "print X_scaled.mean(axis = 0)\n",
    "print X_scaled.std(axis = 0)"
   ]
  },
  {
   "cell_type": "code",
   "execution_count": 26,
   "metadata": {
    "collapsed": false
   },
   "outputs": [
    {
     "data": {
      "text/plain": [
       "<matplotlib.legend.Legend at 0x17267ac8>"
      ]
     },
     "execution_count": 26,
     "metadata": {},
     "output_type": "execute_result"
    },
    {
     "data": {
      "image/png": "[encoded data removed]",
      "text/plain": [
       "<matplotlib.figure.Figure at 0x142080b8>"
      ]
     },
     "metadata": {},
     "output_type": "display_data"
    }
   ],
   "source": [
    "plt.figure(figsize = (6, 5))\n",
    "plt.scatter(X_scaled[y == 1, 0], X_scaled[y == 1, 1], color = 'b', alpha = 0.9, label = 'Low level T4')\n",
    "plt.scatter(X_scaled[y == 2, 0], X_scaled[y == 2, 1], color = 'r', alpha = 0.9, label = 'High level T4')\n",
    "plt.xlabel('lg SDNN scaled')\n",
    "plt.ylabel('heart scaled')\n",
    "plt.legend()"
   ]
  },
  {
   "cell_type": "code",
   "execution_count": 27,
   "metadata": {
    "collapsed": false
   },
   "outputs": [
    {
     "data": {
      "text/plain": [
       "KNeighborsClassifier(algorithm='auto', leaf_size=30, metric='minkowski',\n",
       "           metric_params=None, n_neighbors=1, p=2, weights='uniform')"
      ]
     },
     "execution_count": 27,
     "metadata": {},
     "output_type": "execute_result"
    }
   ],
   "source": [
    "model_sc = neighbors.KNeighborsClassifier(n_neighbors = 1)\n",
    "model_sc.fit(X_scaled, y)"
   ]
  },
  {
   "cell_type": "code",
   "execution_count": 28,
   "metadata": {
    "collapsed": false
   },
   "outputs": [
    {
     "data": {
      "text/plain": [
       "<matplotlib.legend.Legend at 0x1742fa20>"
      ]
     },
     "execution_count": 28,
     "metadata": {},
     "output_type": "execute_result"
    },
    {
     "data": {
      "image/png": "[encoded data removed]",
      "text/plain": [
       "<matplotlib.figure.Figure at 0x144d8400>"
      ]
     },
     "metadata": {},
     "output_type": "display_data"
    }
   ],
   "source": [
    "plt.figure(figsize = (6, 5))\n",
    "#plt.contourf(xx, yy, zz, alpha = 0.25)\n",
    "plt.scatter(X_scaled[y == 1, 0], X_scaled[y == 1, 1], color = 'b', alpha = 0.9, label = 'Low level T4')\n",
    "plt.scatter(X_scaled[y == 2, 0], X_scaled[y == 2, 1], color = 'r', alpha = 0.9, label = 'High level T4')\n",
    "sk_draw.draw_sep_curve(model_sc)\n",
    "plt.xlabel('lg SDNN scaled')\n",
    "plt.ylabel('heart scaled')\n",
    "plt.legend(framealpha = 1)"
   ]
  },
  {
   "cell_type": "markdown",
   "metadata": {},
   "source": [
    "## Приведение к интервалу 0-1"
   ]
  },
  {
   "cell_type": "code",
   "execution_count": 29,
   "metadata": {
    "collapsed": false
   },
   "outputs": [
    {
     "data": {
      "text/plain": [
       "<matplotlib.legend.Legend at 0x17511f98>"
      ]
     },
     "execution_count": 29,
     "metadata": {},
     "output_type": "execute_result"
    },
    {
     "data": {
      "image/png": "[encoded data removed]",
      "text/plain": [
       "<matplotlib.figure.Figure at 0x17511da0>"
      ]
     },
     "metadata": {},
     "output_type": "display_data"
    }
   ],
   "source": [
    "from sklearn import preprocessing\n",
    "X_minmaxsc = preprocessing.MinMaxScaler().fit_transform(X)\n",
    "plt.figure(figsize = (6, 5))\n",
    "plt.scatter(X_minmaxsc[y == 1, 0], X_minmaxsc[y == 1, 1], color = 'b', alpha = 0.9, label = 'Low level T4')\n",
    "plt.scatter(X_minmaxsc[y == 2, 0], X_minmaxsc[y == 2, 1], color = 'r', alpha = 0.9, label = 'High level T4')\n",
    "plt.xlabel('lg SDNN scaled')\n",
    "plt.ylabel('heart scaled')\n",
    "plt.legend()"
   ]
  },
  {
   "cell_type": "markdown",
   "metadata": {},
   "source": [
    "Всегда ли полезна стандартизация/приведение к интервалу?"
   ]
  },
  {
   "cell_type": "code",
   "execution_count": null,
   "metadata": {
    "collapsed": true
   },
   "outputs": [],
   "source": []
  }
 ],
 "metadata": {
  "kernelspec": {
   "display_name": "Python 3",
   "language": "python",
   "name": "python3"
  },
  "language_info": {
   "codemirror_mode": {
    "name": "ipython",
    "version": 3
   },
   "file_extension": ".py",
   "mimetype": "text/x-python",
   "name": "python",
   "nbconvert_exporter": "python",
   "pygments_lexer": "ipython3",
   "version": "3.6.0"
  }
 },
 "nbformat": 4,
 "nbformat_minor": 0
}
