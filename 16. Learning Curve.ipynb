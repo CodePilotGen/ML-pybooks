{
 "cells": [
  {
   "cell_type": "markdown",
   "metadata": {},
   "source": [
    "# Кривая обучения (Learning Curve)"
   ]
  },
  {
   "cell_type": "code",
   "execution_count": 1,
   "metadata": {
    "collapsed": true
   },
   "outputs": [],
   "source": [
    "import numpy as np\n",
    "import matplotlib.pyplot as plt\n",
    "%matplotlib inline"
   ]
  },
  {
   "cell_type": "code",
   "execution_count": 2,
   "metadata": {
    "collapsed": true
   },
   "outputs": [],
   "source": [
    "from sklearn.datasets import load_digits\n",
    "\n",
    "digits = load_digits()"
   ]
  },
  {
   "cell_type": "code",
   "execution_count": 3,
   "metadata": {},
   "outputs": [
    {
     "ename": "SyntaxError",
     "evalue": "Missing parentheses in call to 'print'. Did you mean print(N, d)? (<ipython-input-3-48ade2b9f7c5>, line 3)",
     "output_type": "error",
     "traceback": [
      "\u001b[1;36m  File \u001b[1;32m\"<ipython-input-3-48ade2b9f7c5>\"\u001b[1;36m, line \u001b[1;32m3\u001b[0m\n\u001b[1;33m    print N, d\u001b[0m\n\u001b[1;37m          ^\u001b[0m\n\u001b[1;31mSyntaxError\u001b[0m\u001b[1;31m:\u001b[0m Missing parentheses in call to 'print'. Did you mean print(N, d)?\n"
     ]
    }
   ],
   "source": [
    "X, y = digits.data, digits.target\n",
    "N, d = X.shape\n",
    "print N, d"
   ]
  },
  {
   "cell_type": "code",
   "execution_count": null,
   "metadata": {
    "collapsed": true
   },
   "outputs": [],
   "source": [
    "from sklearn import cross_validation\n",
    "\n",
    "cv = cross_validation.ShuffleSplit(N, n_iter = 100, test_size = 0.2, random_state = 0)"
   ]
  },
  {
   "cell_type": "markdown",
   "metadata": {},
   "source": [
    "`ShuffleSplit` – это _итератор_:"
   ]
  },
  {
   "cell_type": "code",
   "execution_count": null,
   "metadata": {
    "collapsed": true
   },
   "outputs": [],
   "source": [
    "from sklearn.learning_curve import learning_curve"
   ]
  },
  {
   "cell_type": "code",
   "execution_count": null,
   "metadata": {
    "collapsed": true
   },
   "outputs": [],
   "source": [
    "def draw_leaning_curve(model, X = X, y = y, cv = cv, \n",
    "                       train_sizes = np.linspace(0.1, 1.0, 10)):\n",
    "\n",
    "    sizes, scores_train, scores_test = learning_curve(model, X, y, cv = cv, \n",
    "                train_sizes = np.linspace(0.1, 1.0, 10))\n",
    "\n",
    "    err_train = 1 - scores_train\n",
    "    err_test  = 1 - scores_test\n",
    "\n",
    "    mean_err_train = np.mean(err_train, axis = 1)\n",
    "    std_err_train  = np.std (err_train, axis = 1)\n",
    "    mean_err_test  = np.mean(err_test,  axis = 1)\n",
    "    std_err_test   = np.std (err_test,  axis = 1)\n",
    "\n",
    "    plt.figure(figsize = (8, 6))\n",
    "    plt.fill_between(sizes, mean_err_train - std_err_train, mean_err_train + std_err_train, alpha = 0.15, \n",
    "                     color = \"r\")\n",
    "    plt.fill_between(sizes, mean_err_test  - std_err_test,  mean_err_test  + std_err_test,  alpha = 0.15, \n",
    "                     color = \"m\")\n",
    "    plt.plot(sizes, mean_err_train, 'ro-', markeredgecolor = 'r', label = \"Train error\")\n",
    "    plt.plot(sizes, mean_err_test,  'mo-', markeredgecolor = 'm', label = \"CV error\")\n",
    "    plt.xlabel('N')\n",
    "    plt.ylabel('Error')\n",
    "    plt.grid()\n",
    "    plt.legend(loc = 'best')"
   ]
  },
  {
   "cell_type": "markdown",
   "metadata": {},
   "source": [
    "# Деревья решений"
   ]
  },
  {
   "cell_type": "code",
   "execution_count": null,
   "metadata": {},
   "outputs": [],
   "source": [
    "from sklearn.tree import DecisionTreeClassifier\n",
    "draw_leaning_curve(DecisionTreeClassifier())\n",
    "plt.title('Decision Tree Classifier')"
   ]
  },
  {
   "cell_type": "markdown",
   "metadata": {},
   "source": [
    "$\\to$ Наблюдается _большой разброс_ - переобучение"
   ]
  },
  {
   "cell_type": "markdown",
   "metadata": {},
   "source": [
    "# Random Forest"
   ]
  },
  {
   "cell_type": "code",
   "execution_count": null,
   "metadata": {},
   "outputs": [],
   "source": [
    "from sklearn.ensemble import RandomForestClassifier\n",
    "draw_leaning_curve(RandomForestClassifier(n_estimators = 100))\n",
    "plt.title('Random Forest Classifier')"
   ]
  },
  {
   "cell_type": "markdown",
   "metadata": {},
   "source": [
    "$\\to$ Разброс сократился, но, по-прежнему, большой"
   ]
  },
  {
   "cell_type": "markdown",
   "metadata": {},
   "source": [
    "# Gradient Boosting Tree"
   ]
  },
  {
   "cell_type": "code",
   "execution_count": null,
   "metadata": {},
   "outputs": [],
   "source": [
    "from sklearn.ensemble import GradientBoostingClassifier\n",
    "draw_leaning_curve(GradientBoostingClassifier(n_estimators = 100))\n",
    "plt.title('Gradient Boosting Classifier')"
   ]
  },
  {
   "cell_type": "markdown",
   "metadata": {},
   "source": [
    "# Naive Bayes"
   ]
  },
  {
   "cell_type": "code",
   "execution_count": null,
   "metadata": {},
   "outputs": [],
   "source": [
    "from sklearn.naive_bayes import GaussianNB\n",
    "draw_leaning_curve(GaussianNB())\n",
    "plt.title('Gaussian NB')"
   ]
  },
  {
   "cell_type": "markdown",
   "metadata": {},
   "source": [
    "$\\to$ Наблюдается большое смещение - недообучение"
   ]
  },
  {
   "cell_type": "code",
   "execution_count": null,
   "metadata": {},
   "outputs": [],
   "source": [
    "from sklearn.svm import SVC\n",
    "draw_leaning_curve(SVC(gamma = 0.001))\n",
    "plt.title('Support Vector Classifier')\n",
    "plt.ylim(0, 0.1)"
   ]
  },
  {
   "cell_type": "markdown",
   "metadata": {},
   "source": [
    "$\\to$ маленькое смещение и маленький разброс"
   ]
  },
  {
   "cell_type": "markdown",
   "metadata": {},
   "source": [
    "# $k$NN"
   ]
  },
  {
   "cell_type": "code",
   "execution_count": null,
   "metadata": {},
   "outputs": [],
   "source": [
    "from sklearn.neighbors import KNeighborsClassifier\n",
    "draw_leaning_curve(KNeighborsClassifier(n_neighbors = 3))\n",
    "plt.title('$k$ Neighbors Classifier')"
   ]
  },
  {
   "cell_type": "markdown",
   "metadata": {},
   "source": [
    "$\\to$ маленькое смещение и маленький разброс!"
   ]
  },
  {
   "cell_type": "markdown",
   "metadata": {},
   "source": [
    "### Что делать, если наблюдается _большое смещение_?\n",
    "\n",
    "Типичный пример кривой обучения в этом случае - наивный байес в задаче выше.\n",
    "\n",
    "- Взять более сложную модель (в частности, уменьшить параметр регуляризации, добавить новые признаки и т.п. или вообще взять модель из другого класса)\n",
    "- Само по себе увеличение длины обучающей выборки при большом смещении ситуацию, как правило, не улучшает "
   ]
  },
  {
   "cell_type": "markdown",
   "metadata": {},
   "source": [
    "### Что делать, если наблюдается _большой разброс_?\n",
    "\n",
    "Типичный пример кривой обучения в этом случае - дерево решений в задаче выше.\n",
    "\n",
    "- Взять более простую модель (в частности, увеличить параметр регуляризации, удалить лишние признаки и т.п.)\n",
    "- Взять больше данных для обучения"
   ]
  }
 ],
 "metadata": {
  "kernelspec": {
   "display_name": "Python 3",
   "language": "python",
   "name": "python3"
  },
  "language_info": {
   "codemirror_mode": {
    "name": "ipython",
    "version": 3
   },
   "file_extension": ".py",
   "mimetype": "text/x-python",
   "name": "python",
   "nbconvert_exporter": "python",
   "pygments_lexer": "ipython3",
   "version": "3.6.3"
  }
 },
 "nbformat": 4,
 "nbformat_minor": 1
}
