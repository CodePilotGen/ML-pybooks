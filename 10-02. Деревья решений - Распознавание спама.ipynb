{
 "cells": [
  {
   "cell_type": "code",
   "execution_count": 1,
   "metadata": {
    "collapsed": true
   },
   "outputs": [],
   "source": [
    "import numpy as np\n",
    "import matplotlib.pyplot as plt\n",
    "%matplotlib inline"
   ]
  },
  {
   "cell_type": "code",
   "execution_count": 2,
   "metadata": {
    "collapsed": false
   },
   "outputs": [
    {
     "name": "stdout",
     "output_type": "stream",
     "text": [
      "5574 560\n"
     ]
    }
   ],
   "source": [
    "Data = np.loadtxt('../source/sms.dat', delimiter = \" \", dtype = str, skiprows = 1)\n",
    "N, dp1 = Data.shape\n",
    "d = dp1 - 1\n",
    "print(N, d)"
   ]
  },
  {
   "cell_type": "code",
   "execution_count": 3,
   "metadata": {
    "collapsed": false
   },
   "outputs": [
    {
     "name": "stdout",
     "output_type": "stream",
     "text": [
      "4827\n",
      "747\n"
     ]
    }
   ],
   "source": [
    "print(np.count_nonzero(Data[:, -1] == 'ham'))\n",
    "print(np.count_nonzero(Data[:, -1] == 'spam'))"
   ]
  },
  {
   "cell_type": "code",
   "execution_count": 4,
   "metadata": {
    "collapsed": false
   },
   "outputs": [
    {
     "data": {
      "text/plain": [
       "560"
      ]
     },
     "execution_count": 4,
     "metadata": {},
     "output_type": "execute_result"
    }
   ],
   "source": [
    "names = ['abl', 'abt', 'account', 'actual', 'address', 'aft', 'afternoon', 'age', 'aight', 'alon', 'alreadi', 'alright', 'also', 'alway', 'amp', 'angri', 'anoth', 'answer', 'anyon', 'anyth', 'anytim', 'anyway', 'appli', 'ard', 'around', 'ask', 'attempt', 'auction', 'avail', 'await', 'award', 'away', 'awesom', 'babe', 'babi', 'back', 'bad', 'bath', 'bday', 'beauti', 'bed', 'believ', 'best', 'better', 'big', 'bill', 'birthday', 'bit', 'bonus', 'book', 'bore', 'bout', 'box', 'boy', 'boytoy', 'break.', 'bring', 'brother', 'bus', 'busi', 'buy', 'call', 'caller', 'camcord', 'came', 'camera', 'can', 'cant', 'car', 'card', 'care', 'carlo', 'cash', 'caus', 'chanc', 'chang', 'charg', 'chat', 'check', 'choos', 'claim', 'class', 'close', 'club', 'code', 'collect', 'colleg', 'colour', 'come', 'compani', 'complet', 'congrat', 'congratul', 'contact', 'content', 'cool', 'cos', 'cost', 'coz', 'crazi', 'credit', 'cum', 'current', 'custom', 'cut', 'dad', 'dat', 'date', 'day', 'dear', 'decid', 'deliveri', 'den', 'detail', 'didnt', 'die', 'dinner', 'direct', 'dis', 'doesnt', 'dog', 'done', 'dont', 'doubl', 'download', 'draw', 'dream', 'drink', 'drive', 'drop', 'drug', 'dude', 'dun', 'dunno', 'earli', 'easi', 'eat', 'either', 'els', 'email', 'end', 'enjoy', 'enough', 'enter', 'entri', 'eve', 'even', 'ever', 'everi', 'everyon', 'everyth', 'exam', 'expir', 'face', 'famili', 'fanci', 'far', 'feel', 'final', 'find', 'fine', 'finish', 'first', 'follow', 'fone', 'food', 'forget', 'forgot', 'forward', 'found', 'free', 'fri', 'friend', 'friendship', 'frnd', 'fuck', 'full', 'fun', 'game', 'get', 'gift', 'girl', 'give', 'god', 'goe', 'goin', 'gone', 'gonna', 'good', 'got', 'great', 'guarante', 'gud', 'guess', 'guy', 'haf', 'haha', 'hair', 'half', 'hand', 'happen', 'happi', 'hard', 'hav', 'havent', 'head', 'hear', 'heart', 'hello', 'help', 'hes', 'hey', 'hit', 'hold', 'holiday', 'home', 'hope', 'hot', 'hour', 'hous', 'how', 'hrs', 'huh', 'hurt', 'identifi', 'ill', 'import', 'inform', 'invit', 'isnt', 'ive', 'job', 'join', 'joke', 'jus', 'just', 'juz', 'keep', 'kind', 'kiss', 'know', 'knw', 'land', 'landlin', 'lar', 'last', 'late', 'later', 'latest', 'laugh', 'leav', 'left', 'leh', 'lei', 'lesson', 'let', 'liao', 'life', 'light', 'like', 'line', 'listen', 'littl', 'live', 'log', 'lol', 'long', 'look', 'lor', 'lose', 'lot', 'love', 'ltd', 'ltdecimalgt', 'lucki', 'lunch', 'luv', 'made', 'mail', 'make', 'man', 'mani', 'match', 'mate', 'may', 'mayb', 'mean', 'meet', 'messag', 'might', 'min', 'mind', 'mine', 'minut', 'miss', 'mob', 'mobil', 'mobileupd', 'mom', 'money', 'month', 'morn', 'move', 'movi', 'mrng', 'msg', 'mths', 'much', 'mum', 'music', 'must', 'muz', 'name', 'need', 'network', 'neva', 'never', 'new', 'news', 'next.', 'nice', 'night', 'nite', 'noe', 'nokia', 'nope', 'noth', 'now', 'number', 'offer', 'offic', 'okay', 'oki', 'old', 'one', 'onlin', 'open', 'oper', 'orang', 'order', 'oredi', 'oso', 'outsid', 'pain', 'parent', 'park', 'part', 'parti', 'pass', 'pay', 'peopl', 'per', 'person', 'phone', 'pic', 'pick', 'place', 'plan', 'play', 'player', 'pleas', 'pls', 'plus', 'plz', 'pmin', 'pmsg', 'pobox', 'point', 'poli', 'post', 'pound', 'ppm', 'pretti', 'price', 'princess', 'privat', 'prize', 'prob', 'probabl', 'problem', 'pub', 'put', 'question', 'quit', 'rain', 'rate', 'reach', 'read', 'readi', 'real', 'realli', 'reason', 'receiv', 'rememb', 'repli', 'right', 'ring', 'rington', 'rite', 'room', 'run', 'sad', 'sae', 'said', 'sat', 'saturday', 'save', 'saw', 'say', 'sch', 'school', 'sea', 'search', 'second', 'secret', 'see', 'seem', 'select', 'sell', 'send', 'sent', 'serious', 'servic', 'set', 'sexi', 'shall', 'shes', 'shit', 'shop', 'show', 'simpl', 'sinc', 'sir', 'sis', 'sister', 'sit', 'sleep', 'smile', 'smoke', 'sms', 'smth', 'someon', 'someth', 'song', 'soon', 'sorri', 'sort', 'sound', 'speak', 'special', 'start', 'statement', 'stay', 'still', 'stop', 'stori', 'studi', 'stuff', 'sun', 'sure', 'surpris', 'sweet', 'take', 'talk', 'tcs', 'tell', 'test', 'text', 'thank', 'thanx', 'that', 'there', 'thing', 'think', 'thk', 'tho', 'though', 'thought', 'ticket', 'til', 'till', 'time', 'tmr', 'today', 'togeth', 'told', 'tomo', 'tomorrow', 'tone', 'tonight', 'took', 'top', 'tot', 'touch', 'town', 'train', 'treat', 'tri', 'trip', 'true', 'tscs', 'two', 'txt', 'type', 'uncl', 'unredeem', 'unsubscrib', 'updat', 'urgent', 'use', 'valentin', 'valid', 'valu', 'video', 'voucher', 'wait', 'wake', 'walk', 'wan', 'wanna', 'want', 'wat', 'watch', 'way', 'week', 'weekend', 'welcom', 'well', 'wen', 'went', 'what', 'whatev', 'wid', 'wif', 'wife', 'wil', 'will', 'win', 'winner', 'wish', 'wit', 'without', 'won', 'wonder', 'wont', 'word', 'work', 'world', 'worri', 'wot', 'wrong', 'xmas', 'xxx', 'yeah', 'year', 'yes', 'yesterday', 'yet', 'your', 'yup']\n",
    "len(names)"
   ]
  },
  {
   "cell_type": "code",
   "execution_count": 5,
   "metadata": {
    "collapsed": false
   },
   "outputs": [
    {
     "name": "stderr",
     "output_type": "stream",
     "text": [
      "C:\\Anaconda\\lib\\site-packages\\ipykernel\\__main__.py:2: VisibleDeprecationWarning: boolean index did not match indexed array along dimension 1; dimension is 560 but corresponding boolean dimension is 561\n",
      "  from ipykernel import kernelapp as app\n"
     ]
    }
   ],
   "source": [
    "X = np.zeros((N, d), dtype = int)\n",
    "X[Data == 'yes'] = 1\n",
    "y = np.zeros((N,), dtype = int)\n",
    "y[Data[:, -1] == 'spam'] = 1"
   ]
  },
  {
   "cell_type": "code",
   "execution_count": 6,
   "metadata": {
    "collapsed": true
   },
   "outputs": [],
   "source": [
    "from sklearn.cross_validation import train_test_split\n",
    "X_train, X_test, y_train, y_test = train_test_split(X, y, test_size = 0.25, random_state = 0)"
   ]
  },
  {
   "cell_type": "markdown",
   "metadata": {},
   "source": [
    "## Строим дерево"
   ]
  },
  {
   "cell_type": "code",
   "execution_count": 25,
   "metadata": {
    "collapsed": false
   },
   "outputs": [
    {
     "data": {
      "text/plain": [
       "DecisionTreeClassifier(class_weight=None, criterion='gini', max_depth=None,\n",
       "            max_features=None, max_leaf_nodes=None, min_samples_leaf=1,\n",
       "            min_samples_split=2, min_weight_fraction_leaf=0.0,\n",
       "            presort=False, random_state=None, splitter='best')"
      ]
     },
     "execution_count": 25,
     "metadata": {},
     "output_type": "execute_result"
    }
   ],
   "source": [
    "from sklearn import tree\n",
    "tree_model = tree.DecisionTreeClassifier(max_depth = None)\n",
    "tree_model.fit(X_train, y_train)"
   ]
  },
  {
   "cell_type": "code",
   "execution_count": 26,
   "metadata": {
    "collapsed": false
   },
   "outputs": [
    {
     "name": "stdout",
     "output_type": "stream",
     "text": [
      "0.000478468899522\n",
      "0.0552367288379\n"
     ]
    }
   ],
   "source": [
    "y_train_pred = tree_model.predict(X_train)\n",
    "y_test_pred = tree_model.predict(X_test)\n",
    "\n",
    "print(np.mean(y_train_pred != y_train))\n",
    "print(np.mean(y_test_pred != y_test))"
   ]
  },
  {
   "cell_type": "markdown",
   "metadata": {},
   "source": [
    "### Рисуем дерево"
   ]
  },
  {
   "cell_type": "code",
   "execution_count": 27,
   "metadata": {
    "collapsed": true
   },
   "outputs": [],
   "source": [
    "tree.export_graphviz(tree_model, out_file = 'sms_tree.dot', feature_names = names)"
   ]
  },
  {
   "cell_type": "code",
   "execution_count": 43,
   "metadata": {
    "collapsed": false
   },
   "outputs": [],
   "source": [
    "!dot -Tpdf sms_tree.dot -o sms_tree.pdf\n",
    "!dot -Tpng sms_tree.dot -o sms_tree.png"
   ]
  },
  {
   "cell_type": "markdown",
   "metadata": {},
   "source": [
    "![Sms tree](sms_tree.png)"
   ]
  },
  {
   "cell_type": "markdown",
   "metadata": {},
   "source": [
    "### Подбор параметров"
   ]
  },
  {
   "cell_type": "code",
   "execution_count": 29,
   "metadata": {
    "collapsed": false
   },
   "outputs": [
    {
     "name": "stdout",
     "output_type": "stream",
     "text": [
      "0.0358851674641\n",
      "22\n"
     ]
    }
   ],
   "source": [
    "from sklearn.grid_search import GridSearchCV\n",
    "depth_array = np.arange(1, 25)\n",
    "tree_model = tree.DecisionTreeClassifier()\n",
    "grid = GridSearchCV(tree_model, param_grid = {'max_depth': depth_array}, cv = 5)\n",
    "grid.fit(X_train, y_train)\n",
    "min_err_cv = 1 - grid.best_score_\n",
    "argmin_err_cv = grid.best_estimator_.max_depth\n",
    "print(min_err_cv)\n",
    "print(argmin_err_cv)"
   ]
  },
  {
   "cell_type": "code",
   "execution_count": 30,
   "metadata": {
    "collapsed": false
   },
   "outputs": [
    {
     "data": {
      "text/plain": [
       "<matplotlib.lines.Line2D at 0x97f3ba8>"
      ]
     },
     "execution_count": 30,
     "metadata": {},
     "output_type": "execute_result"
    },
    {
     "data": {
      "image/png": "[encoded data removed]",
      "text/plain": [
       "<matplotlib.figure.Figure at 0x97f3160>"
      ]
     },
     "metadata": {},
     "output_type": "display_data"
    }
   ],
   "source": [
    "err_cv  = 1-np.array([x[1] for x in grid.grid_scores_])\n",
    "err_std = map(np.std, [x[2] for x in grid.grid_scores_])\n",
    "plt.errorbar(np.arange(1, 25), err_cv, yerr = err_std)\n",
    "plt.axhline(y = min_err_cv + err_std[argmin_err_cv - 1], color = 'gray')"
   ]
  },
  {
   "cell_type": "code",
   "execution_count": 31,
   "metadata": {
    "collapsed": false
   },
   "outputs": [
    {
     "name": "stdout",
     "output_type": "stream",
     "text": [
      "[[1151   30]\n",
      " [  47  166]]\n"
     ]
    }
   ],
   "source": [
    "from sklearn.metrics import confusion_matrix\n",
    "CF = confusion_matrix(y_test_pred, y_test)\n",
    "print(CF)"
   ]
  },
  {
   "cell_type": "code",
   "execution_count": 32,
   "metadata": {
    "collapsed": false
   },
   "outputs": [
    {
     "name": "stdout",
     "output_type": "stream",
     "text": [
      "0.0392320534224 0.15306122449\n"
     ]
    }
   ],
   "source": [
    "fpr = float(CF[1, 0])/(CF[0, 0] + CF[1, 0])\n",
    "fnr = float(CF[0, 1])/(CF[0, 1] + CF[1, 1])\n",
    "print(fpr, fnr)"
   ]
  },
  {
   "cell_type": "markdown",
   "metadata": {},
   "source": [
    "### ROC-кривая"
   ]
  },
  {
   "cell_type": "code",
   "execution_count": 36,
   "metadata": {
    "collapsed": false
   },
   "outputs": [],
   "source": [
    "from sklearn.metrics import roc_curve\n",
    "tree_model.fit(X_train, y_train)\n",
    "proba = tree_model.predict_proba(X_test)[:, 1]"
   ]
  },
  {
   "cell_type": "code",
   "execution_count": 37,
   "metadata": {
    "collapsed": false
   },
   "outputs": [
    {
     "data": {
      "image/png": "[encoded data removed]",
      "text/plain": [
       "<matplotlib.figure.Figure at 0x10b70198>"
      ]
     },
     "metadata": {},
     "output_type": "display_data"
    }
   ],
   "source": [
    "plt.hist(proba[y_test == 0], color = 'b', alpha = 0.5, normed = True)\n",
    "plt.hist(proba[y_test == 1], color = 'r', alpha = 0.5, normed = True)\n",
    "pass"
   ]
  },
  {
   "cell_type": "code",
   "execution_count": 38,
   "metadata": {
    "collapsed": true
   },
   "outputs": [],
   "source": [
    "fpr, tpr, thresholds = roc_curve(y_test, proba)"
   ]
  },
  {
   "cell_type": "code",
   "execution_count": 39,
   "metadata": {
    "collapsed": false
   },
   "outputs": [
    {
     "data": {
      "text/plain": [
       "[-0.05, 1.05, -0.05, 1.05]"
      ]
     },
     "execution_count": 39,
     "metadata": {},
     "output_type": "execute_result"
    },
    {
     "data": {
      "image/png": "[encoded data removed]",
      "text/plain": [
       "<matplotlib.figure.Figure at 0x10f6b2e8>"
      ]
     },
     "metadata": {},
     "output_type": "display_data"
    }
   ],
   "source": [
    "plt.title('Receiver Operating Characteristic')\n",
    "plt.plot(np.concatenate(([0], fpr)), np.concatenate(([0], tpr)))\n",
    "plt.ylabel('True Positive Rate (Sensitivity)')\n",
    "plt.xlabel('False Positive Rate (1 - Specificity)')\n",
    "plt.plot([0, 1], [0, 1], 'k--')\n",
    "plt.axis([-0.05, 1.05, -0.05, 1.05])"
   ]
  },
  {
   "cell_type": "code",
   "execution_count": 40,
   "metadata": {
    "collapsed": false
   },
   "outputs": [
    {
     "data": {
      "text/plain": [
       "0.90206892439780584"
      ]
     },
     "execution_count": 40,
     "metadata": {},
     "output_type": "execute_result"
    }
   ],
   "source": [
    "from sklearn.metrics import auc\n",
    "auc(fpr, tpr)"
   ]
  },
  {
   "cell_type": "markdown",
   "metadata": {
    "collapsed": true
   },
   "source": [
    "### Значимость признаков"
   ]
  },
  {
   "cell_type": "code",
   "execution_count": 41,
   "metadata": {
    "collapsed": false
   },
   "outputs": [
    {
     "name": "stdout",
     "output_type": "stream",
     "text": [
      "Feature ranking:\n",
      " 1. feature '  txt' (0.166045)\n",
      " 2. feature ' call' (0.161660)\n",
      " 3. feature ' text' (0.053069)\n",
      " 4. feature 'claim' (0.045666)\n",
      " 5. feature 'mobil' (0.035202)\n",
      " 6. feature 'repli' (0.034482)\n",
      " 7. feature ' free' (0.031477)\n",
      " 8. feature '  min' (0.022256)\n",
      " 9. feature '  won' (0.021269)\n",
      "10. feature ' pmsg' (0.019506)\n"
     ]
    }
   ],
   "source": [
    "importances = tree_model.feature_importances_\n",
    "indices = np.argsort(importances)[:-11:-1]\n",
    "\n",
    "print(\"Feature ranking:\")\n",
    "\n",
    "for f in range(10):\n",
    "    print(\"%2d. feature '%5s' (%f)\" % (f + 1, names[indices[f]], importances[indices[f]]))"
   ]
  },
  {
   "cell_type": "code",
   "execution_count": 42,
   "metadata": {
    "collapsed": false
   },
   "outputs": [
    {
     "data": {
      "text/plain": [
       "(-1, 10)"
      ]
     },
     "execution_count": 42,
     "metadata": {},
     "output_type": "execute_result"
    },
    {
     "data": {
      "image/png": "[encoded data removed]",
      "text/plain": [
       "<matplotlib.figure.Figure at 0x114fd6d8>"
      ]
     },
     "metadata": {},
     "output_type": "display_data"
    }
   ],
   "source": [
    "plt.title(\"Feature importances\")\n",
    "plt.bar(range(10), importances[indices], align = 'center', color = 'r')\n",
    "plt.xticks(range(10), np.array(names)[indices])\n",
    "plt.xlim([-1, 10])"
   ]
  },
  {
   "cell_type": "markdown",
   "metadata": {
    "collapsed": true
   },
   "source": [
    "## Достоинства и недостатки деревьев решений\n",
    "\n",
    "### Достоинства:\n",
    "\n",
    "* Поддерживают работу с входными переменными разных (смешанных) типов (_не реализовано в sklearn_)\n",
    "* Возможность обрабатывать данные с пропущенными значениями (_не реализовано в sklearn_)\n",
    "* Достаточно устойчивы к выбросам\n",
    "* Нечувствительность к монотонным преобразованиям входных переменных\n",
    "* Поддерживают работу с большими выборками\n",
    "* Возможность интерпретации построенного решающего правила (если дерево не очень глубокое)\n",
    "* Возможность определения значимости признаков\n",
    "\n",
    "### Недостатки:\n",
    "\n",
    "* Многие алгоритмы, основанные на деревьях решений «пасуют» перед простыми распределениями (например, xor)\n",
    "* Основной недостаток — плохая предсказательная (обобщающая) способность."
   ]
  },
  {
   "cell_type": "code",
   "execution_count": null,
   "metadata": {
    "collapsed": true
   },
   "outputs": [],
   "source": []
  }
 ],
 "metadata": {
  "kernelspec": {
   "display_name": "Python 3",
   "language": "python",
   "name": "python3"
  },
  "language_info": {
   "codemirror_mode": {
    "name": "ipython",
    "version": 3
   },
   "file_extension": ".py",
   "mimetype": "text/x-python",
   "name": "python",
   "nbconvert_exporter": "python",
   "pygments_lexer": "ipython3",
   "version": "3.6.0"
  }
 },
 "nbformat": 4,
 "nbformat_minor": 0
}
