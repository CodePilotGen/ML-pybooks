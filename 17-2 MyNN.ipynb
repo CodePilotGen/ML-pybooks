{
 "cells": [
  {
   "cell_type": "code",
   "execution_count": 1,
   "metadata": {},
   "outputs": [],
   "source": [
    "import numpy as np\n",
    "import matplotlib.pyplot as plt\n",
    "%matplotlib inline"
   ]
  },
  {
   "cell_type": "code",
   "execution_count": 2,
   "metadata": {},
   "outputs": [],
   "source": [
    "def sigmoid(z):\n",
    "    return 1/(1 + np.exp(-z))"
   ]
  },
  {
   "cell_type": "code",
   "execution_count": 3,
   "metadata": {},
   "outputs": [],
   "source": [
    "def softmax(z):\n",
    "    expz = np.exp(z)\n",
    "    return expz/np.sum(expz)"
   ]
  },
  {
   "cell_type": "code",
   "execution_count": 4,
   "metadata": {},
   "outputs": [],
   "source": [
    "def sigmoiddif(sigma):\n",
    "    return sigma*(1 - sigma)"
   ]
  },
  {
   "cell_type": "code",
   "execution_count": 5,
   "metadata": {},
   "outputs": [
    {
     "data": {
      "image/png": "[encoded data removed]",
      "text/plain": [
       "<Figure size 432x288 with 1 Axes>"
      ]
     },
     "metadata": {
      "needs_background": "light"
     },
     "output_type": "display_data"
    }
   ],
   "source": [
    "xx = np.linspace(-10, 10)\n",
    "yy = sigmoid(xx)\n",
    "plt.plot(xx, yy)\n",
    "pass"
   ]
  },
  {
   "cell_type": "code",
   "execution_count": 6,
   "metadata": {},
   "outputs": [],
   "source": [
    "def NeuralNetPredict(X, W, w, V, v):\n",
    "    N, d = X.shape\n",
    "    K, m1 = V.shape\n",
    "    Y = np.zeros((N, K))\n",
    "    for i in range(N):\n",
    "        x = X[i, :]\n",
    "        y = softmax(V.dot(sigmoid(W.dot(x) + w)) + v)\n",
    "        Y[i, :] = y\n",
    "    return Y        "
   ]
  },
  {
   "cell_type": "code",
   "execution_count": 7,
   "metadata": {},
   "outputs": [],
   "source": [
    "def NeuralNetFit(X, Y, rho = 1, nepoch = 1000, m1 = 10):\n",
    "    N, d = X.shape\n",
    "    N, K = Y.shape\n",
    "    \n",
    "    W = np.random.randn(m1, d)\n",
    "    V = np.random.randn(K, m1)\n",
    "    w = np.random.randn(m1)\n",
    "    v = np.random.randn(K)\n",
    "\n",
    "    for epoch in range(nepoch):\n",
    "        for i in range(N):\n",
    "            x = X[i, :]\n",
    "            y = Y[i, :]\n",
    "\n",
    "            # Neural Net Forward\n",
    "            s = W @ x + w\n",
    "            z = sigmoid(s)\n",
    "            t = V @ z + v\n",
    "            g = softmax(t)\n",
    "        \n",
    "            # Neural Net Backward\n",
    "            delta_t = g - y\n",
    "            delta_z = delta_t @ V\n",
    "            delta_s = delta_z*sigmoiddif(z)\n",
    "            #delta_x = delta_s.dot(W)\n",
    "        \n",
    "            W = W - rho*np.outer(delta_s, x)        \n",
    "            V = V - rho*np.outer(delta_t, z)        \n",
    "            w = w - rho*delta_s        \n",
    "            v = v - rho*delta_t        \n",
    "        \n",
    "    return W, w, V, v     "
   ]
  },
  {
   "cell_type": "code",
   "execution_count": 8,
   "metadata": {},
   "outputs": [
    {
     "data": {
      "text/plain": [
       "array([[0, 0, 1, 0],\n",
       "       [1, 0, 0, 1],\n",
       "       [0, 1, 0, 1],\n",
       "       [1, 1, 1, 0]])"
      ]
     },
     "execution_count": 8,
     "metadata": {},
     "output_type": "execute_result"
    }
   ],
   "source": [
    "X_train = np.array([[0, 0], [1, 0], [0, 1], [1, 1]])\n",
    "Y_train = np.array([[1, 0], [0, 1], [0, 1], [1, 0]])\n",
    "np.hstack([X_train, Y_train])"
   ]
  },
  {
   "cell_type": "code",
   "execution_count": 9,
   "metadata": {},
   "outputs": [],
   "source": [
    "W, w, V, v = NeuralNetFit(X_train, Y_train)"
   ]
  },
  {
   "cell_type": "code",
   "execution_count": 10,
   "metadata": {},
   "outputs": [
    {
     "data": {
      "text/plain": [
       "array([[9.99519972e-01, 4.80028243e-04],\n",
       "       [9.59513275e-04, 9.99040487e-01],\n",
       "       [6.57190570e-04, 9.99342809e-01],\n",
       "       [9.98762659e-01, 1.23734102e-03]])"
      ]
     },
     "execution_count": 10,
     "metadata": {},
     "output_type": "execute_result"
    }
   ],
   "source": [
    "NeuralNetPredict(X_train, W, w, V, v)"
   ]
  },
  {
   "cell_type": "code",
   "execution_count": 11,
   "metadata": {},
   "outputs": [],
   "source": [
    "ngrid = 100\n",
    "X1grid, X2grid = np.meshgrid(np.linspace(-.25, 1.25, ngrid), np.linspace(-1, 2, ngrid))\n",
    "X1X2 = np.vstack((X1grid.flatten(), X2grid.flatten())).T"
   ]
  },
  {
   "cell_type": "code",
   "execution_count": 12,
   "metadata": {},
   "outputs": [],
   "source": [
    "Ygrid = NeuralNetPredict(X1X2, W, w, V, v)\n",
    "Ygrid = Ygrid[:, 1].reshape((ngrid, ngrid))"
   ]
  },
  {
   "cell_type": "code",
   "execution_count": 13,
   "metadata": {},
   "outputs": [
    {
     "data": {
      "image/png": "[encoded data removed]",
      "text/plain": [
       "<Figure size 432x288 with 1 Axes>"
      ]
     },
     "metadata": {
      "needs_background": "light"
     },
     "output_type": "display_data"
    }
   ],
   "source": [
    "plt.contourf(X1grid, X2grid, Ygrid, [0,.1,.25,.5,.75,.9,1])\n",
    "plt.plot(X_train, Y_train, 'o')\n",
    "pass"
   ]
  },
  {
   "cell_type": "code",
   "execution_count": null,
   "metadata": {},
   "outputs": [],
   "source": []
  }
 ],
 "metadata": {
  "kernelspec": {
   "display_name": "Python 3",
   "language": "python",
   "name": "python3"
  },
  "language_info": {
   "codemirror_mode": {
    "name": "ipython",
    "version": 3
   },
   "file_extension": ".py",
   "mimetype": "text/x-python",
   "name": "python",
   "nbconvert_exporter": "python",
   "pygments_lexer": "ipython3",
   "version": "3.8.3"
  }
 },
 "nbformat": 4,
 "nbformat_minor": 1
}
