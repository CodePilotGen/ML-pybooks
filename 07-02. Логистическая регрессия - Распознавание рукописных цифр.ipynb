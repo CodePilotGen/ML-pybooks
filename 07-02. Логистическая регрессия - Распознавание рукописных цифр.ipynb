{
 "cells": [
  {
   "cell_type": "code",
   "execution_count": 1,
   "metadata": {
    "collapsed": true
   },
   "outputs": [],
   "source": [
    "import numpy as np\n",
    "import matplotlib.pyplot as plt\n",
    "%matplotlib inline"
   ]
  },
  {
   "cell_type": "code",
   "execution_count": 2,
   "metadata": {
    "collapsed": false
   },
   "outputs": [],
   "source": [
    "from sklearn.datasets import load_digits\n",
    "digits = load_digits()"
   ]
  },
  {
   "cell_type": "code",
   "execution_count": 3,
   "metadata": {
    "collapsed": false
   },
   "outputs": [
    {
     "name": "stdout",
     "output_type": "stream",
     "text": [
      "(1797, 64)\n",
      "(1797,)\n"
     ]
    }
   ],
   "source": [
    "X, y = digits.data, digits.target\n",
    "print(X.shape)\n",
    "print(y.shape)"
   ]
  },
  {
   "cell_type": "code",
   "execution_count": 4,
   "metadata": {
    "collapsed": false
   },
   "outputs": [],
   "source": [
    "from sklearn.model_selection import train_test_split\n",
    "X_train, X_test, y_train, y_test = train_test_split(X, y, test_size = 0.33, \n",
    "                                                    random_state = 7)\n",
    "N_test, _ = X_test.shape\n",
    "\n",
    "from sklearn.linear_model import LogisticRegression\n",
    "logistic_model = LogisticRegression()\n",
    "logistic_model.fit(X_train, y_train)\n",
    "\n",
    "y_test_pred = logistic_model.predict(X_test)"
   ]
  },
  {
   "cell_type": "code",
   "execution_count": 5,
   "metadata": {
    "collapsed": false
   },
   "outputs": [
    {
     "data": {
      "text/plain": [
       "0.052188552188552187"
      ]
     },
     "execution_count": 5,
     "metadata": {},
     "output_type": "execute_result"
    }
   ],
   "source": [
    "np.mean(y_test != y_test_pred)"
   ]
  },
  {
   "cell_type": "code",
   "execution_count": 6,
   "metadata": {
    "collapsed": false
   },
   "outputs": [
    {
     "name": "stdout",
     "output_type": "stream",
     "text": [
      "[[63  0  0  0  0  0  1  0  0  0]\n",
      " [ 0 52  0  0  0  0  1  0  4  0]\n",
      " [ 0  0 56  0  0  0  0  0  1  0]\n",
      " [ 0  3  1 53  0  0  0  0  1  1]\n",
      " [ 0  0  0  0 62  0  0  1  1  0]\n",
      " [ 0  0  0  1  0 50  0  0  1  1]\n",
      " [ 0  0  0  0  1  0 54  0  1  0]\n",
      " [ 0  0  0  1  1  0  0 57  0  1]\n",
      " [ 0  1  0  1  0  0  0  0 60  3]\n",
      " [ 0  1  0  1  0  1  0  0  0 56]]\n"
     ]
    }
   ],
   "source": [
    "from sklearn.metrics import confusion_matrix\n",
    "print(confusion_matrix(y_test_pred, y_test))"
   ]
  },
  {
   "cell_type": "code",
   "execution_count": 7,
   "metadata": {
    "collapsed": false
   },
   "outputs": [
    {
     "data": {
      "text/plain": [
       "<matplotlib.colorbar.Colorbar at 0x27ec44939b0>"
      ]
     },
     "execution_count": 7,
     "metadata": {},
     "output_type": "execute_result"
    },
    {
     "data": {
      "image/png": "[encoded data removed]",
      "text/plain": [
       "<matplotlib.figure.Figure at 0x27ec0e3b320>"
      ]
     },
     "metadata": {},
     "output_type": "display_data"
    }
   ],
   "source": [
    "M = confusion_matrix(y_test, y_test_pred)\n",
    "#M = M - np.diag(np.diag(M))\n",
    "M = np.sqrt(M)\n",
    "plt.imshow(M, interpolation = 'nearest')\n",
    "plt.set_cmap('binary')\n",
    "plt.grid(False)\n",
    "plt.xticks(range(10))\n",
    "plt.yticks(range(10))\n",
    "plt.xlabel(\"predicted label\")\n",
    "plt.ylabel(\"true label\")\n",
    "plt.colorbar()"
   ]
  },
  {
   "cell_type": "code",
   "execution_count": 8,
   "metadata": {
    "collapsed": false
   },
   "outputs": [
    {
     "data": {
      "image/png": "[encoded data removed]",
      "text/plain": [
       "<matplotlib.figure.Figure at 0x27ec4256b38>"
      ]
     },
     "metadata": {},
     "output_type": "display_data"
    }
   ],
   "source": [
    "logistic_model = LogisticRegression()\n",
    "logistic_model.fit(X_train, y_train)\n",
    "\n",
    "plt.figure(figsize = (10, 10)) # Размер окна в дюймах\n",
    "i_subplot = 1 \n",
    "for i in range(N_test):\n",
    "    yi_test_pred = logistic_model.predict([X_test[i, :]])[0]\n",
    "    if yi_test_pred != y_test[i]:\n",
    "        plt.subplot(8, 8, i_subplot)\n",
    "        i_subplot += 1\n",
    "        plt.xticks([])\n",
    "        plt.yticks([])\n",
    "        plt.imshow(np.reshape(X_test[i, :], (8, 8)), cmap = plt.cm.binary, \n",
    "                   interpolation = 'nearest')\n",
    "        plt.text(0, 7, str(y_test[i]),    color = 'b')        \n",
    "        plt.text(0, 1, str(yi_test_pred), color = 'r')"
   ]
  },
  {
   "cell_type": "markdown",
   "metadata": {},
   "source": [
    "## Плюсы и минусы метода логистической регрессии\n",
    "\n",
    "**Плюсы**\n",
    "\n",
    "* Простой метод\n",
    "* Показывают хорошие результаты, когда данные линейно разделимы\n",
    "* Более устойчивый к выбросам, чем LDA\n",
    "\n",
    "**Минусы**\n",
    "\n",
    "* Показывают плохие результаты, когда разделяющие поверхности слишком сложные (но можно попытаться расширить пространство признаков)\n",
    "* Работают только с числовыми признаками\n",
    "* Не работают напрямую с пропущенными значениями"
   ]
  },
  {
   "cell_type": "code",
   "execution_count": null,
   "metadata": {
    "collapsed": true
   },
   "outputs": [],
   "source": []
  }
 ],
 "metadata": {
  "kernelspec": {
   "display_name": "Python 3",
   "language": "python",
   "name": "python3"
  },
  "language_info": {
   "codemirror_mode": {
    "name": "ipython",
    "version": 3
   },
   "file_extension": ".py",
   "mimetype": "text/x-python",
   "name": "python",
   "nbconvert_exporter": "python",
   "pygments_lexer": "ipython3",
   "version": "3.6.0"
  }
 },
 "nbformat": 4,
 "nbformat_minor": 0
}
